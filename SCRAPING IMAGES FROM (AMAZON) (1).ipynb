{
 "cells": [
  {
   "cell_type": "markdown",
   "metadata": {},
   "source": [
    "#                 WEB SCRAPPING USING SELENIUM"
   ]
  },
  {
   "cell_type": "markdown",
   "metadata": {},
   "source": [
    "# Scrapping images with Amazon"
   ]
  },
  {
   "cell_type": "markdown",
   "metadata": {},
   "source": [
    "# Import the Libraries"
   ]
  },
  {
   "cell_type": "code",
   "execution_count": 11,
   "metadata": {},
   "outputs": [],
   "source": [
    "import os"
   ]
  },
  {
   "cell_type": "code",
   "execution_count": 12,
   "metadata": {},
   "outputs": [],
   "source": [
    "from selenium import webdriver as wb"
   ]
  },
  {
   "cell_type": "code",
   "execution_count": 13,
   "metadata": {},
   "outputs": [],
   "source": [
    "driver = wb.Chrome(r\"C:\\Users\\Dell\\Downloads\\chromedriver_win32\\chromedriver.exe\")"
   ]
  },
  {
   "cell_type": "code",
   "execution_count": 14,
   "metadata": {},
   "outputs": [],
   "source": [
    "my_page=driver.get('https://www.amazon.in/s?k=saree&rh=n%3A1953602031&ref=nb_sb_noss')"
   ]
  },
  {
   "cell_type": "markdown",
   "metadata": {},
   "source": [
    "# Make Directory to store images"
   ]
  },
  {
   "cell_type": "code",
   "execution_count": 15,
   "metadata": {},
   "outputs": [],
   "source": [
    "def make_directory(dirname):\n",
    "    current_path=os.getcwd()\n",
    "    path=os.path.join(current_path, dirname)\n",
    "    if not os.path.exists(path):\n",
    "        os.makedirs(path)"
   ]
  },
  {
   "cell_type": "code",
   "execution_count": 16,
   "metadata": {},
   "outputs": [],
   "source": [
    "make_directory(\"amazon_sarees\")"
   ]
  },
  {
   "cell_type": "markdown",
   "metadata": {},
   "source": [
    "# Scraping image URLs"
   ]
  },
  {
   "cell_type": "code",
   "execution_count": 17,
   "metadata": {},
   "outputs": [],
   "source": [
    "images = driver.find_elements_by_xpath(\"//img[@class= 's-image']\")"
   ]
  },
  {
   "cell_type": "code",
   "execution_count": 18,
   "metadata": {},
   "outputs": [
    {
     "name": "stdout",
     "output_type": "stream",
     "text": [
      "[<selenium.webdriver.remote.webelement.WebElement (session=\"7400670b4fdf577299673eed1210dfc1\", element=\"17330a9e-d0a8-410b-b07d-7195bef41e36\")>, <selenium.webdriver.remote.webelement.WebElement (session=\"7400670b4fdf577299673eed1210dfc1\", element=\"43b639e2-157f-4001-b433-50e5b26b6024\")>, <selenium.webdriver.remote.webelement.WebElement (session=\"7400670b4fdf577299673eed1210dfc1\", element=\"24864e20-53ae-4e0a-abd9-c6d56fbbbf04\")>, <selenium.webdriver.remote.webelement.WebElement (session=\"7400670b4fdf577299673eed1210dfc1\", element=\"14211a25-ff4a-4be4-8ebb-0fd63f872325\")>, <selenium.webdriver.remote.webelement.WebElement (session=\"7400670b4fdf577299673eed1210dfc1\", element=\"724cd399-0ecf-465b-a44f-0b841d50b4d4\")>, <selenium.webdriver.remote.webelement.WebElement (session=\"7400670b4fdf577299673eed1210dfc1\", element=\"91b005ea-ffd9-457c-a176-443e113f2e94\")>, <selenium.webdriver.remote.webelement.WebElement (session=\"7400670b4fdf577299673eed1210dfc1\", element=\"a65e3af0-e22a-4fdc-b27f-caa4a0c64195\")>, <selenium.webdriver.remote.webelement.WebElement (session=\"7400670b4fdf577299673eed1210dfc1\", element=\"01945c1a-cb8e-420a-a26a-023ac3492eae\")>, <selenium.webdriver.remote.webelement.WebElement (session=\"7400670b4fdf577299673eed1210dfc1\", element=\"46e83e15-b9c3-4242-ae70-d558cb8b572b\")>, <selenium.webdriver.remote.webelement.WebElement (session=\"7400670b4fdf577299673eed1210dfc1\", element=\"9e7d911f-1ef8-4d20-ba52-b5230178fe54\")>, <selenium.webdriver.remote.webelement.WebElement (session=\"7400670b4fdf577299673eed1210dfc1\", element=\"4f77a44d-0a60-438c-84c6-5103711ff405\")>, <selenium.webdriver.remote.webelement.WebElement (session=\"7400670b4fdf577299673eed1210dfc1\", element=\"702f06e0-149a-4764-8aa6-a59bd9d210ea\")>, <selenium.webdriver.remote.webelement.WebElement (session=\"7400670b4fdf577299673eed1210dfc1\", element=\"752daede-46f0-4477-8e86-f382e7d4f394\")>, <selenium.webdriver.remote.webelement.WebElement (session=\"7400670b4fdf577299673eed1210dfc1\", element=\"b8c395c0-37c0-444a-8ae2-bd3d143c246a\")>, <selenium.webdriver.remote.webelement.WebElement (session=\"7400670b4fdf577299673eed1210dfc1\", element=\"7d3b1288-bafd-4dc8-985e-32b14e3ffb82\")>, <selenium.webdriver.remote.webelement.WebElement (session=\"7400670b4fdf577299673eed1210dfc1\", element=\"91776640-8934-42e1-bd8a-eef3513cd308\")>, <selenium.webdriver.remote.webelement.WebElement (session=\"7400670b4fdf577299673eed1210dfc1\", element=\"0c76afd6-1db4-4833-b4a9-004940ee968f\")>, <selenium.webdriver.remote.webelement.WebElement (session=\"7400670b4fdf577299673eed1210dfc1\", element=\"1c4ad5ab-a103-451d-a43c-f2204238e339\")>, <selenium.webdriver.remote.webelement.WebElement (session=\"7400670b4fdf577299673eed1210dfc1\", element=\"dbb3c2d7-f1b5-4b6e-b6e2-599411c39d74\")>, <selenium.webdriver.remote.webelement.WebElement (session=\"7400670b4fdf577299673eed1210dfc1\", element=\"7a1d2fd8-e317-41ea-b2ed-046bdaaa0eb9\")>, <selenium.webdriver.remote.webelement.WebElement (session=\"7400670b4fdf577299673eed1210dfc1\", element=\"ef95ebc3-2eb5-4e5e-9c81-8b1619e63d95\")>, <selenium.webdriver.remote.webelement.WebElement (session=\"7400670b4fdf577299673eed1210dfc1\", element=\"9321b9ca-4a65-4b47-b035-5ac3f9ff600a\")>, <selenium.webdriver.remote.webelement.WebElement (session=\"7400670b4fdf577299673eed1210dfc1\", element=\"843309c8-a13a-4cd2-bbd7-a18845ddd38e\")>, <selenium.webdriver.remote.webelement.WebElement (session=\"7400670b4fdf577299673eed1210dfc1\", element=\"910b319c-095e-453c-9d51-fe5d5139cf5d\")>, <selenium.webdriver.remote.webelement.WebElement (session=\"7400670b4fdf577299673eed1210dfc1\", element=\"79fc0229-2351-4642-9493-e0ff25602a7c\")>, <selenium.webdriver.remote.webelement.WebElement (session=\"7400670b4fdf577299673eed1210dfc1\", element=\"a6f7c735-8c34-4beb-b027-323ac80e638a\")>, <selenium.webdriver.remote.webelement.WebElement (session=\"7400670b4fdf577299673eed1210dfc1\", element=\"cf914db4-4ab9-454a-9753-d1efe5509bd3\")>, <selenium.webdriver.remote.webelement.WebElement (session=\"7400670b4fdf577299673eed1210dfc1\", element=\"2812ec48-774b-43ad-b34b-0cab673ab6d5\")>, <selenium.webdriver.remote.webelement.WebElement (session=\"7400670b4fdf577299673eed1210dfc1\", element=\"4858b24b-af89-4b3c-8a96-38df5d42df3c\")>, <selenium.webdriver.remote.webelement.WebElement (session=\"7400670b4fdf577299673eed1210dfc1\", element=\"a63d911d-1312-4a70-8543-971be4415caf\")>, <selenium.webdriver.remote.webelement.WebElement (session=\"7400670b4fdf577299673eed1210dfc1\", element=\"7e9c9875-5e7f-4e63-a24c-23e9f12e8f38\")>, <selenium.webdriver.remote.webelement.WebElement (session=\"7400670b4fdf577299673eed1210dfc1\", element=\"126aee1d-e35d-4b71-bcde-37bfdeccad05\")>, <selenium.webdriver.remote.webelement.WebElement (session=\"7400670b4fdf577299673eed1210dfc1\", element=\"d671cdd2-76ee-479d-98d9-625c59632650\")>, <selenium.webdriver.remote.webelement.WebElement (session=\"7400670b4fdf577299673eed1210dfc1\", element=\"e7c68809-800e-4d1e-afc8-9496270feb71\")>, <selenium.webdriver.remote.webelement.WebElement (session=\"7400670b4fdf577299673eed1210dfc1\", element=\"e3f69d89-d8d5-466b-b735-cb9df2c2fea4\")>, <selenium.webdriver.remote.webelement.WebElement (session=\"7400670b4fdf577299673eed1210dfc1\", element=\"b5c39d2f-7a32-4354-9d24-96e0f2023d93\")>, <selenium.webdriver.remote.webelement.WebElement (session=\"7400670b4fdf577299673eed1210dfc1\", element=\"006735a9-8cc5-44c0-952e-9ed12472baba\")>, <selenium.webdriver.remote.webelement.WebElement (session=\"7400670b4fdf577299673eed1210dfc1\", element=\"37327639-36e3-4358-baa8-e438f6896308\")>, <selenium.webdriver.remote.webelement.WebElement (session=\"7400670b4fdf577299673eed1210dfc1\", element=\"9edb935c-171e-41f7-bd3f-831210feb029\")>, <selenium.webdriver.remote.webelement.WebElement (session=\"7400670b4fdf577299673eed1210dfc1\", element=\"cbd9e83f-16cd-4d8f-afae-a18016c028d7\")>, <selenium.webdriver.remote.webelement.WebElement (session=\"7400670b4fdf577299673eed1210dfc1\", element=\"8fb717ed-c5be-4c27-8be8-01f73352e091\")>, <selenium.webdriver.remote.webelement.WebElement (session=\"7400670b4fdf577299673eed1210dfc1\", element=\"a2882534-f578-4f86-bd6d-0d3032c760f4\")>, <selenium.webdriver.remote.webelement.WebElement (session=\"7400670b4fdf577299673eed1210dfc1\", element=\"c552abb9-37ca-42d2-921e-1cc24067b264\")>, <selenium.webdriver.remote.webelement.WebElement (session=\"7400670b4fdf577299673eed1210dfc1\", element=\"0cd453f2-d92a-4371-b1c9-ae5a47661c73\")>, <selenium.webdriver.remote.webelement.WebElement (session=\"7400670b4fdf577299673eed1210dfc1\", element=\"9306ae7c-2bde-416e-9372-f6a3d97c9300\")>, <selenium.webdriver.remote.webelement.WebElement (session=\"7400670b4fdf577299673eed1210dfc1\", element=\"a643f118-bd1d-4254-a4bf-821af65102cc\")>, <selenium.webdriver.remote.webelement.WebElement (session=\"7400670b4fdf577299673eed1210dfc1\", element=\"38009f09-8b89-4c1b-a1af-900f96e270ce\")>, <selenium.webdriver.remote.webelement.WebElement (session=\"7400670b4fdf577299673eed1210dfc1\", element=\"50adace8-5834-400e-b6f2-a2f03b72bc78\")>]\n"
     ]
    }
   ],
   "source": [
    "print(images) "
   ]
  },
  {
   "cell_type": "code",
   "execution_count": 19,
   "metadata": {
    "scrolled": true
   },
   "outputs": [
    {
     "name": "stdout",
     "output_type": "stream",
     "text": [
      "https://m.media-amazon.com/images/I/71gS9nADNeL._AC_UL320_.jpg\n",
      "https://m.media-amazon.com/images/I/61EvPLNdVBL._AC_UL320_.jpg\n",
      "https://m.media-amazon.com/images/I/6145npqbg4L._AC_UL320_.jpg\n",
      "https://m.media-amazon.com/images/I/81Pks4Q52wL._AC_UL320_.jpg\n",
      "https://m.media-amazon.com/images/I/81-uuEDvnQL._AC_UL320_.jpg\n",
      "https://m.media-amazon.com/images/I/91Nfpvp1yhL._AC_UL320_.jpg\n",
      "https://m.media-amazon.com/images/I/910KJPiGcYL._AC_UL320_.jpg\n",
      "https://m.media-amazon.com/images/I/61lIqW3EzmL._AC_UL320_.jpg\n",
      "https://m.media-amazon.com/images/I/81vAGLZh0OL._AC_UL320_.jpg\n",
      "https://m.media-amazon.com/images/I/91YFGHzjm4L._AC_UL320_.jpg\n",
      "https://m.media-amazon.com/images/I/81O-J6qiXvL._AC_UL320_.jpg\n",
      "https://m.media-amazon.com/images/I/81XKaSKvlyL._AC_UL320_.jpg\n",
      "https://m.media-amazon.com/images/I/71p0MOTaZ3L._AC_UL320_.jpg\n",
      "https://m.media-amazon.com/images/I/81Go-YQRDwL._AC_UL320_.jpg\n",
      "https://m.media-amazon.com/images/I/9114kTDpPUL._AC_UL320_.jpg\n",
      "https://m.media-amazon.com/images/I/91yPghSgR8L._AC_UL320_.jpg\n",
      "https://m.media-amazon.com/images/I/81wCS9fycmL._AC_UL320_.jpg\n",
      "https://m.media-amazon.com/images/I/61xiCTgjAnL._AC_UL320_.jpg\n",
      "https://m.media-amazon.com/images/I/91gd8AM2VOL._AC_UL320_.jpg\n",
      "https://m.media-amazon.com/images/I/810Kq7xQvtL._AC_UL320_.jpg\n",
      "https://m.media-amazon.com/images/I/81qi7QCNSjL._AC_UL320_.jpg\n",
      "https://m.media-amazon.com/images/I/71fS1s6PYeL._AC_UL320_.jpg\n",
      "https://m.media-amazon.com/images/I/61fu2EnscfL._AC_UL320_.jpg\n",
      "https://m.media-amazon.com/images/I/91p13dDWkuL._AC_UL320_.jpg\n",
      "https://m.media-amazon.com/images/I/91S2jHgRHuL._AC_UL320_.jpg\n",
      "https://m.media-amazon.com/images/I/81QhclXBeEL._AC_UL320_.jpg\n",
      "https://m.media-amazon.com/images/I/71xnLoFApqL._AC_UL320_.jpg\n",
      "https://m.media-amazon.com/images/I/81QOe4fOisL._AC_UL320_.jpg\n",
      "https://m.media-amazon.com/images/I/71y-fzR6gAL._AC_UL320_.jpg\n",
      "https://m.media-amazon.com/images/I/81zQm4+FtKL._AC_UL320_.jpg\n",
      "https://m.media-amazon.com/images/I/91YhxRLNTuL._AC_UL320_.jpg\n",
      "https://m.media-amazon.com/images/I/61L+A9cDN+L._AC_UL320_.jpg\n",
      "https://m.media-amazon.com/images/I/91MTkoNHToL._AC_UL320_.jpg\n",
      "https://m.media-amazon.com/images/I/91wh9ZP-o8L._AC_UL320_.jpg\n",
      "https://m.media-amazon.com/images/I/71LZF0v4o8L._AC_UL320_.jpg\n",
      "https://m.media-amazon.com/images/I/71H+wwqqLvL._AC_UL320_.jpg\n",
      "https://m.media-amazon.com/images/I/71-fmGvNgSL._AC_UL320_.jpg\n",
      "https://m.media-amazon.com/images/I/91K7kfay53L._AC_UL320_.jpg\n",
      "https://m.media-amazon.com/images/I/81et7nKmZHL._AC_UL320_.jpg\n",
      "https://m.media-amazon.com/images/I/81ujgS5lKqL._AC_UL320_.jpg\n",
      "https://m.media-amazon.com/images/I/81JxWA-m4SL._AC_UL320_.jpg\n",
      "https://m.media-amazon.com/images/I/61eRq0YtC+L._AC_UL320_.jpg\n",
      "https://m.media-amazon.com/images/I/715Eq9LpiKL._AC_UL320_.jpg\n",
      "https://m.media-amazon.com/images/I/71b5JqOaJcL._AC_UL320_.jpg\n",
      "https://m.media-amazon.com/images/I/71TPLQLP0qL._AC_UL320_.jpg\n",
      "https://m.media-amazon.com/images/I/61dmWUnGq9L._AC_UL320_.jpg\n",
      "https://m.media-amazon.com/images/I/91qr5nl9kIL._AC_UL320_.jpg\n",
      "https://m.media-amazon.com/images/I/91uWTqKxCdL._AC_UL320_.jpg\n"
     ]
    }
   ],
   "source": [
    "urls=[]\n",
    "for image in images:\n",
    "    source = image.get_attribute('src')\n",
    "    urls.append(source)\n",
    "    print(source)"
   ]
  },
  {
   "cell_type": "code",
   "execution_count": 21,
   "metadata": {},
   "outputs": [
    {
     "data": {
      "text/plain": [
       "48"
      ]
     },
     "execution_count": 21,
     "metadata": {},
     "output_type": "execute_result"
    }
   ],
   "source": [
    "len(urls)"
   ]
  },
  {
   "cell_type": "markdown",
   "metadata": {},
   "source": [
    "# Using the URLs to download images"
   ]
  },
  {
   "cell_type": "code",
   "execution_count": 22,
   "metadata": {},
   "outputs": [],
   "source": [
    "import shutil\n",
    "import requests"
   ]
  },
  {
   "cell_type": "code",
   "execution_count": 23,
   "metadata": {},
   "outputs": [
    {
     "name": "stdout",
     "output_type": "stream",
     "text": [
      "Downloading 1 of 48 images\n",
      "Downloading 2 of 48 images\n",
      "Downloading 3 of 48 images\n",
      "Downloading 4 of 48 images\n",
      "Downloading 5 of 48 images\n",
      "Downloading 6 of 48 images\n",
      "Downloading 7 of 48 images\n",
      "Downloading 8 of 48 images\n",
      "Downloading 9 of 48 images\n",
      "Downloading 10 of 48 images\n",
      "Downloading 11 of 48 images\n",
      "Downloading 12 of 48 images\n",
      "Downloading 13 of 48 images\n",
      "Downloading 14 of 48 images\n",
      "Downloading 15 of 48 images\n",
      "Downloading 16 of 48 images\n",
      "Downloading 17 of 48 images\n",
      "Downloading 18 of 48 images\n",
      "Downloading 19 of 48 images\n",
      "Downloading 20 of 48 images\n",
      "Downloading 21 of 48 images\n",
      "Downloading 22 of 48 images\n",
      "Downloading 23 of 48 images\n",
      "Downloading 24 of 48 images\n",
      "Downloading 25 of 48 images\n",
      "Downloading 26 of 48 images\n",
      "Downloading 27 of 48 images\n",
      "Downloading 28 of 48 images\n",
      "Downloading 29 of 48 images\n",
      "Downloading 30 of 48 images\n",
      "Downloading 31 of 48 images\n",
      "Downloading 32 of 48 images\n",
      "Downloading 33 of 48 images\n",
      "Downloading 34 of 48 images\n",
      "Downloading 35 of 48 images\n",
      "Downloading 36 of 48 images\n",
      "Downloading 37 of 48 images\n",
      "Downloading 38 of 48 images\n",
      "Downloading 39 of 48 images\n",
      "Downloading 40 of 48 images\n",
      "Downloading 41 of 48 images\n",
      "Downloading 42 of 48 images\n",
      "Downloading 43 of 48 images\n",
      "Downloading 44 of 48 images\n",
      "Downloading 45 of 48 images\n",
      "Downloading 46 of 48 images\n",
      "Downloading 47 of 48 images\n",
      "Downloading 48 of 48 images\n"
     ]
    }
   ],
   "source": [
    "for index, link in enumerate(urls):\n",
    "    print(\"Downloading {0} of {1} images\".format(index+1, len(urls)))\n",
    "    response= requests.get(link)\n",
    "    with open('amazon_sarees/img_{0}.jpeg'.format(index), \"wb\") as file:\n",
    "        file.write(response.content)"
   ]
  },
  {
   "cell_type": "markdown",
   "metadata": {},
   "source": [
    "# Downloading 2nd page of sarees"
   ]
  },
  {
   "cell_type": "code",
   "execution_count": 24,
   "metadata": {},
   "outputs": [],
   "source": [
    "my_page=driver.get('https://www.amazon.in/s?k=saree&i=apparel&rh=n%3A1953602031&page=2&qid=1593928571&ref=sr_pg_2')"
   ]
  },
  {
   "cell_type": "code",
   "execution_count": 25,
   "metadata": {},
   "outputs": [],
   "source": [
    "def make_directory(dirname):\n",
    "    current_path=os.getcwd()\n",
    "    path=os.path.join(current_path, dirname)\n",
    "    if not os.path.exists(path):\n",
    "        os.makedirs(path)"
   ]
  },
  {
   "cell_type": "code",
   "execution_count": 26,
   "metadata": {},
   "outputs": [],
   "source": [
    "make_directory(\"amazon_sarees1\")"
   ]
  },
  {
   "cell_type": "code",
   "execution_count": 27,
   "metadata": {},
   "outputs": [
    {
     "name": "stdout",
     "output_type": "stream",
     "text": [
      "[<selenium.webdriver.remote.webelement.WebElement (session=\"7400670b4fdf577299673eed1210dfc1\", element=\"3fabf242-3a98-4e6e-8d80-c6ee3c788384\")>, <selenium.webdriver.remote.webelement.WebElement (session=\"7400670b4fdf577299673eed1210dfc1\", element=\"2c011164-3f00-4875-8058-9641446697c1\")>, <selenium.webdriver.remote.webelement.WebElement (session=\"7400670b4fdf577299673eed1210dfc1\", element=\"a4b0eeed-c41d-47ae-8e86-9db14a0e149f\")>, <selenium.webdriver.remote.webelement.WebElement (session=\"7400670b4fdf577299673eed1210dfc1\", element=\"72c61209-08f7-4ecb-9532-31fd15601008\")>, <selenium.webdriver.remote.webelement.WebElement (session=\"7400670b4fdf577299673eed1210dfc1\", element=\"b14aab5c-44c0-4677-b241-f35e46478fa6\")>, <selenium.webdriver.remote.webelement.WebElement (session=\"7400670b4fdf577299673eed1210dfc1\", element=\"d9d38721-6bee-42ed-8b64-10c9c6d18b78\")>, <selenium.webdriver.remote.webelement.WebElement (session=\"7400670b4fdf577299673eed1210dfc1\", element=\"ae211e8a-0875-453b-b243-2b9e635530c7\")>, <selenium.webdriver.remote.webelement.WebElement (session=\"7400670b4fdf577299673eed1210dfc1\", element=\"eea071d3-c0ef-4ad2-b006-ea4680de5827\")>, <selenium.webdriver.remote.webelement.WebElement (session=\"7400670b4fdf577299673eed1210dfc1\", element=\"b22af10a-87a9-47d8-9763-4fa8c5e17293\")>, <selenium.webdriver.remote.webelement.WebElement (session=\"7400670b4fdf577299673eed1210dfc1\", element=\"7bd5581c-add9-44d2-9ded-1fa68adba8b4\")>, <selenium.webdriver.remote.webelement.WebElement (session=\"7400670b4fdf577299673eed1210dfc1\", element=\"148b72ae-9b15-4e1d-877d-136971b10952\")>, <selenium.webdriver.remote.webelement.WebElement (session=\"7400670b4fdf577299673eed1210dfc1\", element=\"d4b6b992-707e-47e5-8049-7c6c9b54710c\")>, <selenium.webdriver.remote.webelement.WebElement (session=\"7400670b4fdf577299673eed1210dfc1\", element=\"1acfcc77-b192-4979-aad3-6381bd4d9da4\")>, <selenium.webdriver.remote.webelement.WebElement (session=\"7400670b4fdf577299673eed1210dfc1\", element=\"486fd64d-408c-4d91-8a59-8e9ed909071c\")>, <selenium.webdriver.remote.webelement.WebElement (session=\"7400670b4fdf577299673eed1210dfc1\", element=\"d96d2951-8aff-4f89-92ad-0593f7de19bd\")>, <selenium.webdriver.remote.webelement.WebElement (session=\"7400670b4fdf577299673eed1210dfc1\", element=\"37a92a97-b083-4152-a50c-8dae22568130\")>, <selenium.webdriver.remote.webelement.WebElement (session=\"7400670b4fdf577299673eed1210dfc1\", element=\"c36f90fd-1cee-42a6-8723-96836cbf12e3\")>, <selenium.webdriver.remote.webelement.WebElement (session=\"7400670b4fdf577299673eed1210dfc1\", element=\"7cd2fd52-01ed-43dc-a43c-f04631d83275\")>, <selenium.webdriver.remote.webelement.WebElement (session=\"7400670b4fdf577299673eed1210dfc1\", element=\"9f1acebc-73f4-45df-b671-f6b192b11a26\")>, <selenium.webdriver.remote.webelement.WebElement (session=\"7400670b4fdf577299673eed1210dfc1\", element=\"6bb1b5de-90ad-40c5-ba7a-726d73c6df65\")>, <selenium.webdriver.remote.webelement.WebElement (session=\"7400670b4fdf577299673eed1210dfc1\", element=\"fd6a0270-d0ae-4b1a-9533-c79ca84316e4\")>, <selenium.webdriver.remote.webelement.WebElement (session=\"7400670b4fdf577299673eed1210dfc1\", element=\"07658e00-e923-4b8d-a404-425fafc26a17\")>, <selenium.webdriver.remote.webelement.WebElement (session=\"7400670b4fdf577299673eed1210dfc1\", element=\"328fb23a-f368-4e30-82f2-f9ce7fe4908e\")>, <selenium.webdriver.remote.webelement.WebElement (session=\"7400670b4fdf577299673eed1210dfc1\", element=\"87c612c6-ccb0-4e00-a778-777266e5a59c\")>, <selenium.webdriver.remote.webelement.WebElement (session=\"7400670b4fdf577299673eed1210dfc1\", element=\"28e9199b-2931-4b82-9e64-80b3d7cad5ef\")>, <selenium.webdriver.remote.webelement.WebElement (session=\"7400670b4fdf577299673eed1210dfc1\", element=\"7ba0f317-7840-4077-b335-bf2ca9665604\")>, <selenium.webdriver.remote.webelement.WebElement (session=\"7400670b4fdf577299673eed1210dfc1\", element=\"ef6f3157-fe0b-46d5-a652-69378b1f0988\")>, <selenium.webdriver.remote.webelement.WebElement (session=\"7400670b4fdf577299673eed1210dfc1\", element=\"cc6cfa5f-dc90-4f58-819d-236743842238\")>, <selenium.webdriver.remote.webelement.WebElement (session=\"7400670b4fdf577299673eed1210dfc1\", element=\"0da36547-22d3-4911-aafd-148a46165f1f\")>, <selenium.webdriver.remote.webelement.WebElement (session=\"7400670b4fdf577299673eed1210dfc1\", element=\"2155305b-b67b-4bac-b571-23d87ccf16f2\")>, <selenium.webdriver.remote.webelement.WebElement (session=\"7400670b4fdf577299673eed1210dfc1\", element=\"1378525e-6879-42cd-a2e5-1ec041d82a20\")>, <selenium.webdriver.remote.webelement.WebElement (session=\"7400670b4fdf577299673eed1210dfc1\", element=\"e9061488-93bb-4cad-835a-d4c576ef902d\")>, <selenium.webdriver.remote.webelement.WebElement (session=\"7400670b4fdf577299673eed1210dfc1\", element=\"fcbe7786-f5ce-4063-825e-421d8552a2ee\")>, <selenium.webdriver.remote.webelement.WebElement (session=\"7400670b4fdf577299673eed1210dfc1\", element=\"b69b9347-1f94-4460-80ab-90c13ef76fec\")>, <selenium.webdriver.remote.webelement.WebElement (session=\"7400670b4fdf577299673eed1210dfc1\", element=\"7a13fffe-1f5b-47ea-b5a1-d92cc7fffeb2\")>, <selenium.webdriver.remote.webelement.WebElement (session=\"7400670b4fdf577299673eed1210dfc1\", element=\"5e8170bf-52a0-4e3c-b8b6-79e0f3fff36b\")>, <selenium.webdriver.remote.webelement.WebElement (session=\"7400670b4fdf577299673eed1210dfc1\", element=\"a7a6fe01-71f0-432d-97b2-d0b119467286\")>, <selenium.webdriver.remote.webelement.WebElement (session=\"7400670b4fdf577299673eed1210dfc1\", element=\"049741fd-eb20-4d0b-9361-ac529dc48c20\")>, <selenium.webdriver.remote.webelement.WebElement (session=\"7400670b4fdf577299673eed1210dfc1\", element=\"a39e46f4-103d-4683-9b11-08abf350c14c\")>, <selenium.webdriver.remote.webelement.WebElement (session=\"7400670b4fdf577299673eed1210dfc1\", element=\"0183a1a3-2ec8-48c9-abb7-6f2ff9f04d0b\")>, <selenium.webdriver.remote.webelement.WebElement (session=\"7400670b4fdf577299673eed1210dfc1\", element=\"ab5193cc-ba14-4639-ab81-82cb1a72d3a3\")>, <selenium.webdriver.remote.webelement.WebElement (session=\"7400670b4fdf577299673eed1210dfc1\", element=\"0eaa4028-3dfe-4235-b70f-8c9daac08712\")>, <selenium.webdriver.remote.webelement.WebElement (session=\"7400670b4fdf577299673eed1210dfc1\", element=\"4b9c2780-84de-439c-9042-e217b114c82f\")>, <selenium.webdriver.remote.webelement.WebElement (session=\"7400670b4fdf577299673eed1210dfc1\", element=\"35500a13-8443-4ff8-ad02-0c1dd7986080\")>, <selenium.webdriver.remote.webelement.WebElement (session=\"7400670b4fdf577299673eed1210dfc1\", element=\"fa81880e-8030-4594-b9fe-487239d0f971\")>, <selenium.webdriver.remote.webelement.WebElement (session=\"7400670b4fdf577299673eed1210dfc1\", element=\"3141e330-773c-425a-9f88-d474199f2d44\")>, <selenium.webdriver.remote.webelement.WebElement (session=\"7400670b4fdf577299673eed1210dfc1\", element=\"6c8babee-a28a-427d-a8eb-b1decdef310d\")>, <selenium.webdriver.remote.webelement.WebElement (session=\"7400670b4fdf577299673eed1210dfc1\", element=\"c1588c2e-c329-4dda-9b6e-aadba6752a1d\")>, <selenium.webdriver.remote.webelement.WebElement (session=\"7400670b4fdf577299673eed1210dfc1\", element=\"4455c6e7-bda2-492f-960a-0fe0a0a0123e\")>, <selenium.webdriver.remote.webelement.WebElement (session=\"7400670b4fdf577299673eed1210dfc1\", element=\"9bb6d6a2-c8f7-490f-bc4d-e45180eec675\")>]\n"
     ]
    }
   ],
   "source": [
    "images = driver.find_elements_by_xpath(\"//img[@class= 's-image']\")\n",
    "print(images)"
   ]
  },
  {
   "cell_type": "code",
   "execution_count": 28,
   "metadata": {},
   "outputs": [
    {
     "name": "stdout",
     "output_type": "stream",
     "text": [
      "https://m.media-amazon.com/images/I/81KtckEhEzL._AC_UL320_.jpg\n",
      "https://m.media-amazon.com/images/I/71QNlIJ-PxL._AC_UL320_.jpg\n",
      "https://m.media-amazon.com/images/I/81uSvaWKNtL._AC_UL320_.jpg\n",
      "https://m.media-amazon.com/images/I/91+auNsyHVL._AC_UL320_.jpg\n",
      "https://m.media-amazon.com/images/I/81Q9ig3qklL._AC_UL320_.jpg\n",
      "https://m.media-amazon.com/images/I/81LgiMrGpyL._AC_UL320_.jpg\n",
      "https://m.media-amazon.com/images/I/919lNOaU-GL._AC_UL320_.jpg\n",
      "https://m.media-amazon.com/images/I/81j-y-KWb6L._AC_UL320_.jpg\n",
      "https://m.media-amazon.com/images/I/916ROGKpL1L._AC_UL320_.jpg\n",
      "https://m.media-amazon.com/images/I/91Pc9HRArSL._AC_UL320_.jpg\n",
      "https://m.media-amazon.com/images/I/91RS1ozop+L._AC_UL320_.jpg\n",
      "https://m.media-amazon.com/images/I/81HotAqVa+L._AC_UL320_.jpg\n",
      "https://m.media-amazon.com/images/I/81aPqWbygLL._AC_UL320_.jpg\n",
      "https://m.media-amazon.com/images/I/810YIASBFbL._AC_UL320_.jpg\n",
      "https://m.media-amazon.com/images/I/81X+hS50s1L._AC_UL320_.jpg\n",
      "https://m.media-amazon.com/images/I/91sJG3QtQnL._AC_UL320_.jpg\n",
      "https://m.media-amazon.com/images/I/81e+aJD2a-L._AC_UL320_.jpg\n",
      "https://m.media-amazon.com/images/I/91XpJEpdxwL._AC_UL320_.jpg\n",
      "https://m.media-amazon.com/images/I/61dmWUnGq9L._AC_UL320_.jpg\n",
      "https://m.media-amazon.com/images/I/8193VjcJIpL._AC_UL320_.jpg\n",
      "https://m.media-amazon.com/images/I/91rG+JG4nvL._AC_UL320_.jpg\n",
      "https://m.media-amazon.com/images/I/81Q8Oktw4sL._AC_UL320_.jpg\n",
      "https://m.media-amazon.com/images/I/81YQ4TOE5kL._AC_UL320_.jpg\n",
      "https://m.media-amazon.com/images/I/81MSqXnwSkL._AC_UL320_.jpg\n",
      "https://m.media-amazon.com/images/I/81N8ZoadsFL._AC_UL320_.jpg\n",
      "https://m.media-amazon.com/images/I/81Ac5LasV-L._AC_UL320_.jpg\n",
      "https://m.media-amazon.com/images/I/8146BLEzqPL._AC_UL320_.jpg\n",
      "https://m.media-amazon.com/images/I/61qy8shrPML._AC_UL320_.jpg\n",
      "https://m.media-amazon.com/images/I/81k0OQ6nWuL._AC_UL320_.jpg\n",
      "https://m.media-amazon.com/images/I/91h0QjRiUHL._AC_UL320_.jpg\n",
      "https://m.media-amazon.com/images/I/91OZ8AAMq1L._AC_UL320_.jpg\n",
      "https://m.media-amazon.com/images/I/61k2713T2gL._AC_UL320_.jpg\n",
      "https://m.media-amazon.com/images/I/61b1twc91zL._AC_UL320_.jpg\n",
      "https://m.media-amazon.com/images/I/81xJWo4yFpL._AC_UL320_.jpg\n",
      "https://m.media-amazon.com/images/I/71tF2-V95yL._AC_UL320_.jpg\n",
      "https://m.media-amazon.com/images/I/91NtqE1gRrL._AC_UL320_.jpg\n",
      "https://m.media-amazon.com/images/I/71-BCt0A7CL._AC_UL320_.jpg\n",
      "https://m.media-amazon.com/images/I/91qMLkLE6tL._AC_UL320_.jpg\n",
      "https://m.media-amazon.com/images/I/91vlcubyDDL._AC_UL320_.jpg\n",
      "https://m.media-amazon.com/images/I/81LjyV4BFoL._AC_UL320_.jpg\n",
      "https://m.media-amazon.com/images/I/91yUymrVuuL._AC_UL320_.jpg\n",
      "https://m.media-amazon.com/images/I/61LQ3meXS1L._AC_UL320_.jpg\n",
      "https://m.media-amazon.com/images/I/81aUXKj2lHL._AC_UL320_.jpg\n",
      "https://m.media-amazon.com/images/I/71GKOi7ptgL._AC_UL320_.jpg\n",
      "https://m.media-amazon.com/images/I/5128Fbn1IoL._AC_UL320_.jpg\n",
      "https://m.media-amazon.com/images/I/71eiNWuCtEL._AC_UL320_.jpg\n",
      "https://m.media-amazon.com/images/I/91rVD3bMUbL._AC_UL320_.jpg\n",
      "https://m.media-amazon.com/images/I/81geElIbbBL._AC_UL320_.jpg\n",
      "https://m.media-amazon.com/images/I/91NcSgkMoGL._AC_UL320_.jpg\n",
      "https://m.media-amazon.com/images/I/71G8d6pvCRL._AC_UL320_.jpg\n"
     ]
    }
   ],
   "source": [
    "urls=[]\n",
    "for image in images:\n",
    "    source = image.get_attribute('src')\n",
    "    urls.append(source)\n",
    "    print(source)"
   ]
  },
  {
   "cell_type": "code",
   "execution_count": 29,
   "metadata": {},
   "outputs": [
    {
     "data": {
      "text/plain": [
       "50"
      ]
     },
     "execution_count": 29,
     "metadata": {},
     "output_type": "execute_result"
    }
   ],
   "source": [
    "len(urls)"
   ]
  },
  {
   "cell_type": "code",
   "execution_count": 30,
   "metadata": {},
   "outputs": [],
   "source": [
    "import shutil\n",
    "import requests"
   ]
  },
  {
   "cell_type": "code",
   "execution_count": 31,
   "metadata": {
    "scrolled": true
   },
   "outputs": [
    {
     "name": "stdout",
     "output_type": "stream",
     "text": [
      "Downloading 60 of 50 images\n",
      "Downloading 61 of 50 images\n",
      "Downloading 62 of 50 images\n",
      "Downloading 63 of 50 images\n",
      "Downloading 64 of 50 images\n",
      "Downloading 65 of 50 images\n",
      "Downloading 66 of 50 images\n",
      "Downloading 67 of 50 images\n",
      "Downloading 68 of 50 images\n",
      "Downloading 69 of 50 images\n",
      "Downloading 70 of 50 images\n",
      "Downloading 71 of 50 images\n",
      "Downloading 72 of 50 images\n",
      "Downloading 73 of 50 images\n",
      "Downloading 74 of 50 images\n",
      "Downloading 75 of 50 images\n",
      "Downloading 76 of 50 images\n",
      "Downloading 77 of 50 images\n",
      "Downloading 78 of 50 images\n",
      "Downloading 79 of 50 images\n",
      "Downloading 80 of 50 images\n",
      "Downloading 81 of 50 images\n",
      "Downloading 82 of 50 images\n",
      "Downloading 83 of 50 images\n",
      "Downloading 84 of 50 images\n",
      "Downloading 85 of 50 images\n",
      "Downloading 86 of 50 images\n",
      "Downloading 87 of 50 images\n",
      "Downloading 88 of 50 images\n",
      "Downloading 89 of 50 images\n",
      "Downloading 90 of 50 images\n",
      "Downloading 91 of 50 images\n",
      "Downloading 92 of 50 images\n",
      "Downloading 93 of 50 images\n",
      "Downloading 94 of 50 images\n",
      "Downloading 95 of 50 images\n",
      "Downloading 96 of 50 images\n",
      "Downloading 97 of 50 images\n",
      "Downloading 98 of 50 images\n",
      "Downloading 99 of 50 images\n",
      "Downloading 100 of 50 images\n",
      "Downloading 101 of 50 images\n",
      "Downloading 102 of 50 images\n",
      "Downloading 103 of 50 images\n",
      "Downloading 104 of 50 images\n",
      "Downloading 105 of 50 images\n",
      "Downloading 106 of 50 images\n",
      "Downloading 107 of 50 images\n",
      "Downloading 108 of 50 images\n",
      "Downloading 109 of 50 images\n"
     ]
    }
   ],
   "source": [
    "for index, link in enumerate(urls):\n",
    "    print(\"Downloading {0} of {1} images\".format(index+60, len(urls)))\n",
    "    response= requests.get(link)\n",
    "    with open('amazon_sarees1/img_{0}.jpeg'.format(index), \"wb\") as file:\n",
    "        file.write(response.content)"
   ]
  },
  {
   "cell_type": "markdown",
   "metadata": {},
   "source": [
    "# Downloading the T-Shirt images"
   ]
  },
  {
   "cell_type": "code",
   "execution_count": 32,
   "metadata": {},
   "outputs": [],
   "source": [
    "my_page=driver.get(\"https://www.amazon.in/s?k=t+shirts&ref=nb_sb_noss_2\")"
   ]
  },
  {
   "cell_type": "code",
   "execution_count": 33,
   "metadata": {},
   "outputs": [],
   "source": [
    "def make_directory(dirname):\n",
    "    current_path=os.getcwd()\n",
    "    path=os.path.join(current_path, dirname)\n",
    "    if not os.path.exists(path):\n",
    "        os.makedirs(path)"
   ]
  },
  {
   "cell_type": "code",
   "execution_count": 34,
   "metadata": {},
   "outputs": [],
   "source": [
    "make_directory(\"amazon_t-shirts\")"
   ]
  },
  {
   "cell_type": "code",
   "execution_count": 35,
   "metadata": {},
   "outputs": [
    {
     "name": "stdout",
     "output_type": "stream",
     "text": [
      "[<selenium.webdriver.remote.webelement.WebElement (session=\"7400670b4fdf577299673eed1210dfc1\", element=\"51af0c6d-377f-4d10-9e5d-fe939b2d6119\")>, <selenium.webdriver.remote.webelement.WebElement (session=\"7400670b4fdf577299673eed1210dfc1\", element=\"8d66ca44-20f4-4fa8-b1f3-11f81572f00e\")>, <selenium.webdriver.remote.webelement.WebElement (session=\"7400670b4fdf577299673eed1210dfc1\", element=\"7bbecfae-8ca6-48a1-a731-63bf4ccb8ea2\")>, <selenium.webdriver.remote.webelement.WebElement (session=\"7400670b4fdf577299673eed1210dfc1\", element=\"f220c427-6cde-46e4-98bc-e4e65b220acc\")>, <selenium.webdriver.remote.webelement.WebElement (session=\"7400670b4fdf577299673eed1210dfc1\", element=\"b4250743-6630-4178-85ef-7bcfdf06c58a\")>, <selenium.webdriver.remote.webelement.WebElement (session=\"7400670b4fdf577299673eed1210dfc1\", element=\"06b3a401-104c-4203-a4f3-86cee591e6b3\")>, <selenium.webdriver.remote.webelement.WebElement (session=\"7400670b4fdf577299673eed1210dfc1\", element=\"da6bbfd8-3f96-4586-a31a-dcdfef35bce0\")>, <selenium.webdriver.remote.webelement.WebElement (session=\"7400670b4fdf577299673eed1210dfc1\", element=\"0d6fa5d1-b123-48f1-a0ed-fb0ff28d1a98\")>, <selenium.webdriver.remote.webelement.WebElement (session=\"7400670b4fdf577299673eed1210dfc1\", element=\"dd6cc2e0-d123-4d06-a995-3c437e6e6d26\")>, <selenium.webdriver.remote.webelement.WebElement (session=\"7400670b4fdf577299673eed1210dfc1\", element=\"4c151c9d-9348-4e6b-9a62-540df2f77740\")>, <selenium.webdriver.remote.webelement.WebElement (session=\"7400670b4fdf577299673eed1210dfc1\", element=\"19168358-e2bb-42d9-a1df-03fcb64d37ff\")>, <selenium.webdriver.remote.webelement.WebElement (session=\"7400670b4fdf577299673eed1210dfc1\", element=\"cc29243e-55f2-41f4-92f5-73d5b0a26747\")>, <selenium.webdriver.remote.webelement.WebElement (session=\"7400670b4fdf577299673eed1210dfc1\", element=\"6a51bc1a-c4fc-4895-b53b-d0c15208124a\")>, <selenium.webdriver.remote.webelement.WebElement (session=\"7400670b4fdf577299673eed1210dfc1\", element=\"02a1f2a1-4c3f-4f20-9195-0496fd7f5b69\")>, <selenium.webdriver.remote.webelement.WebElement (session=\"7400670b4fdf577299673eed1210dfc1\", element=\"cca7a6ef-fe2e-43a5-8adb-608f1ee1011b\")>, <selenium.webdriver.remote.webelement.WebElement (session=\"7400670b4fdf577299673eed1210dfc1\", element=\"be6d304d-4875-46eb-aaf2-8a500ac4177c\")>, <selenium.webdriver.remote.webelement.WebElement (session=\"7400670b4fdf577299673eed1210dfc1\", element=\"96b43968-3ed3-47fe-9398-8fa9437e598f\")>, <selenium.webdriver.remote.webelement.WebElement (session=\"7400670b4fdf577299673eed1210dfc1\", element=\"7dc15037-dced-4ca8-b372-6c47b90ea622\")>, <selenium.webdriver.remote.webelement.WebElement (session=\"7400670b4fdf577299673eed1210dfc1\", element=\"171cf11e-c8c0-4b8a-a4c4-50b258b3b4fa\")>, <selenium.webdriver.remote.webelement.WebElement (session=\"7400670b4fdf577299673eed1210dfc1\", element=\"2f1bc462-9a5a-4685-8c32-f69fe88ca019\")>, <selenium.webdriver.remote.webelement.WebElement (session=\"7400670b4fdf577299673eed1210dfc1\", element=\"e704215b-359e-40e8-bda3-35d905eac953\")>, <selenium.webdriver.remote.webelement.WebElement (session=\"7400670b4fdf577299673eed1210dfc1\", element=\"a8da79b9-1de9-41c5-a65b-c04afceb2804\")>, <selenium.webdriver.remote.webelement.WebElement (session=\"7400670b4fdf577299673eed1210dfc1\", element=\"4149bc78-bb01-4b43-a916-da0b05b15148\")>, <selenium.webdriver.remote.webelement.WebElement (session=\"7400670b4fdf577299673eed1210dfc1\", element=\"0f9d032a-fa43-42db-8906-0b32310256c4\")>, <selenium.webdriver.remote.webelement.WebElement (session=\"7400670b4fdf577299673eed1210dfc1\", element=\"fa179a21-9be5-47e8-ae9a-14217c166b21\")>, <selenium.webdriver.remote.webelement.WebElement (session=\"7400670b4fdf577299673eed1210dfc1\", element=\"f21f2acd-12da-4e2e-a637-669c7edc7e60\")>, <selenium.webdriver.remote.webelement.WebElement (session=\"7400670b4fdf577299673eed1210dfc1\", element=\"41744937-a588-4aed-a9e5-af9442ca75df\")>, <selenium.webdriver.remote.webelement.WebElement (session=\"7400670b4fdf577299673eed1210dfc1\", element=\"74e88c3a-25d1-43bc-b075-ab80cdf28ef0\")>, <selenium.webdriver.remote.webelement.WebElement (session=\"7400670b4fdf577299673eed1210dfc1\", element=\"adb06180-2450-4be8-8074-c633e6eebae9\")>, <selenium.webdriver.remote.webelement.WebElement (session=\"7400670b4fdf577299673eed1210dfc1\", element=\"2bc0b630-69f9-4dbd-a292-328de9235b4d\")>, <selenium.webdriver.remote.webelement.WebElement (session=\"7400670b4fdf577299673eed1210dfc1\", element=\"54770a14-ff72-40c3-bb22-4a960554088f\")>, <selenium.webdriver.remote.webelement.WebElement (session=\"7400670b4fdf577299673eed1210dfc1\", element=\"fdb50740-986f-49dc-b436-5187d317e0b1\")>, <selenium.webdriver.remote.webelement.WebElement (session=\"7400670b4fdf577299673eed1210dfc1\", element=\"776e9699-cd03-4337-8c19-1cdf46c9153a\")>, <selenium.webdriver.remote.webelement.WebElement (session=\"7400670b4fdf577299673eed1210dfc1\", element=\"6fec1279-3952-401c-92ab-1caeaf16a228\")>, <selenium.webdriver.remote.webelement.WebElement (session=\"7400670b4fdf577299673eed1210dfc1\", element=\"a0551004-3cf0-4137-9d93-97c71d8c575b\")>, <selenium.webdriver.remote.webelement.WebElement (session=\"7400670b4fdf577299673eed1210dfc1\", element=\"fbe078f1-082a-4355-9557-e866d706e1ce\")>, <selenium.webdriver.remote.webelement.WebElement (session=\"7400670b4fdf577299673eed1210dfc1\", element=\"0681f5b8-6fd7-476d-b936-ad0e5b22c5ed\")>, <selenium.webdriver.remote.webelement.WebElement (session=\"7400670b4fdf577299673eed1210dfc1\", element=\"66e33c59-3278-4f3d-b111-de9d6aada87d\")>, <selenium.webdriver.remote.webelement.WebElement (session=\"7400670b4fdf577299673eed1210dfc1\", element=\"248ad488-2897-4b64-855a-55d93f53361d\")>, <selenium.webdriver.remote.webelement.WebElement (session=\"7400670b4fdf577299673eed1210dfc1\", element=\"681560dd-a9de-429b-80cc-3c8397251309\")>, <selenium.webdriver.remote.webelement.WebElement (session=\"7400670b4fdf577299673eed1210dfc1\", element=\"16da6dcf-0e09-40ab-a55f-64db6e65d1b2\")>, <selenium.webdriver.remote.webelement.WebElement (session=\"7400670b4fdf577299673eed1210dfc1\", element=\"df3fedd8-3725-4c9a-a2a0-94c3def6b906\")>, <selenium.webdriver.remote.webelement.WebElement (session=\"7400670b4fdf577299673eed1210dfc1\", element=\"b10b6958-0d5d-4ef6-a535-96ce6d69d22a\")>, <selenium.webdriver.remote.webelement.WebElement (session=\"7400670b4fdf577299673eed1210dfc1\", element=\"b747cec4-31b2-43f2-9116-c43bd82f9280\")>, <selenium.webdriver.remote.webelement.WebElement (session=\"7400670b4fdf577299673eed1210dfc1\", element=\"a4e2e342-a0f3-4c5b-a1b6-ae57612c13aa\")>, <selenium.webdriver.remote.webelement.WebElement (session=\"7400670b4fdf577299673eed1210dfc1\", element=\"422679b5-1888-4909-933b-f07a3e3a65f7\")>, <selenium.webdriver.remote.webelement.WebElement (session=\"7400670b4fdf577299673eed1210dfc1\", element=\"abe45a3a-3cbf-4371-8e60-7b74d11c19f1\")>, <selenium.webdriver.remote.webelement.WebElement (session=\"7400670b4fdf577299673eed1210dfc1\", element=\"c96846af-b13f-46f0-95af-828e6680db16\")>, <selenium.webdriver.remote.webelement.WebElement (session=\"7400670b4fdf577299673eed1210dfc1\", element=\"70d68b8e-bb77-495a-b8b5-6ac2b0a79dac\")>, <selenium.webdriver.remote.webelement.WebElement (session=\"7400670b4fdf577299673eed1210dfc1\", element=\"54588fb7-d3b7-4edf-8b49-50dfaf812d26\")>, <selenium.webdriver.remote.webelement.WebElement (session=\"7400670b4fdf577299673eed1210dfc1\", element=\"aaa9c514-c3ca-48f0-a3e3-5c23de6459b5\")>, <selenium.webdriver.remote.webelement.WebElement (session=\"7400670b4fdf577299673eed1210dfc1\", element=\"686d73a7-f94f-40ae-84ec-c6a68d18d791\")>, <selenium.webdriver.remote.webelement.WebElement (session=\"7400670b4fdf577299673eed1210dfc1\", element=\"0e68494c-1250-4896-8406-01d2e7a8a789\")>, <selenium.webdriver.remote.webelement.WebElement (session=\"7400670b4fdf577299673eed1210dfc1\", element=\"bdc564ae-cb1b-4250-952b-6b8f27287b2e\")>, <selenium.webdriver.remote.webelement.WebElement (session=\"7400670b4fdf577299673eed1210dfc1\", element=\"4729af27-0b1d-4401-aecb-9ee38eea2a55\")>, <selenium.webdriver.remote.webelement.WebElement (session=\"7400670b4fdf577299673eed1210dfc1\", element=\"a2ba2228-a7b7-4b87-bb05-e5c3c467cf78\")>, <selenium.webdriver.remote.webelement.WebElement (session=\"7400670b4fdf577299673eed1210dfc1\", element=\"2ffa72e4-c987-4560-9004-17d9a7743ba2\")>, <selenium.webdriver.remote.webelement.WebElement (session=\"7400670b4fdf577299673eed1210dfc1\", element=\"bf8134e6-e4f0-4f0b-81e4-35f5a267da48\")>, <selenium.webdriver.remote.webelement.WebElement (session=\"7400670b4fdf577299673eed1210dfc1\", element=\"9f351653-ff7e-42fe-8e4a-227d0b2bf60e\")>, <selenium.webdriver.remote.webelement.WebElement (session=\"7400670b4fdf577299673eed1210dfc1\", element=\"f0b4d303-957f-4881-9673-1d1fd929090d\")>, <selenium.webdriver.remote.webelement.WebElement (session=\"7400670b4fdf577299673eed1210dfc1\", element=\"ecd265c1-4243-44fb-8217-69fcb433599a\")>, <selenium.webdriver.remote.webelement.WebElement (session=\"7400670b4fdf577299673eed1210dfc1\", element=\"b2e101cd-1691-4708-84cf-c769521b8205\")>]\n"
     ]
    }
   ],
   "source": [
    "images = driver.find_elements_by_xpath(\"//img[@class= 's-image']\")\n",
    "print(images)"
   ]
  },
  {
   "cell_type": "code",
   "execution_count": 36,
   "metadata": {},
   "outputs": [
    {
     "name": "stdout",
     "output_type": "stream",
     "text": [
      "https://m.media-amazon.com/images/I/81LvBSIofGL._AC_UL320_.jpg\n",
      "https://m.media-amazon.com/images/I/817VA+Xp5JL._AC_UL320_.jpg\n",
      "https://m.media-amazon.com/images/I/81c8zXhTUKL._AC_UL320_.jpg\n",
      "https://m.media-amazon.com/images/I/71IAAXHE2FL._AC_UL320_.jpg\n",
      "https://m.media-amazon.com/images/I/71Pof91deKL._AC_UL320_.jpg\n",
      "https://m.media-amazon.com/images/I/81RmZgxA8cL._AC_UL320_.jpg\n",
      "https://m.media-amazon.com/images/I/81Yqx-u2z4L._AC_UL320_.jpg\n",
      "https://m.media-amazon.com/images/I/71StJ8Z5kOL._AC_UL320_.jpg\n",
      "https://m.media-amazon.com/images/I/410FdyEd4ZL._AC_UL320_.jpg\n",
      "https://m.media-amazon.com/images/I/81I1WcONIsL._AC_UL320_.jpg\n",
      "https://m.media-amazon.com/images/I/71BtFPZsA9L._AC_UL320_.jpg\n",
      "https://m.media-amazon.com/images/I/61W6rdtU5ML._AC_UL320_.jpg\n",
      "https://m.media-amazon.com/images/I/712AQ9XgpuL._AC_UL320_.jpg\n",
      "https://m.media-amazon.com/images/I/715nKDSr27L._AC_UL320_.jpg\n",
      "https://m.media-amazon.com/images/I/41IUHBV5XzL._AC_UL320_.jpg\n",
      "https://m.media-amazon.com/images/I/81tzKmzNhwL._AC_UL320_.jpg\n",
      "https://m.media-amazon.com/images/I/71xXfDqiVaL._AC_UL320_.jpg\n",
      "https://m.media-amazon.com/images/I/71qwnRAujEL._AC_UL320_.jpg\n",
      "https://m.media-amazon.com/images/I/81c8zXhTUKL._AC_UL320_.jpg\n",
      "https://m.media-amazon.com/images/I/71SOM8sevLL._AC_UL320_.jpg\n",
      "https://m.media-amazon.com/images/I/61JxL44oAbL._AC_UL320_.jpg\n",
      "https://m.media-amazon.com/images/I/71MYFa29GXL._AC_UL320_.jpg\n",
      "https://m.media-amazon.com/images/I/91g7fwIrATL._AC_UL320_.jpg\n",
      "https://m.media-amazon.com/images/I/717kGHcO66L._AC_UL320_.jpg\n",
      "https://m.media-amazon.com/images/I/81BpSRCA4eL._AC_UL320_.jpg\n",
      "https://m.media-amazon.com/images/I/718e7fiDVsL._AC_UL320_.jpg\n",
      "https://m.media-amazon.com/images/I/41fo4pQwGWL._AC_UL320_.jpg\n",
      "https://m.media-amazon.com/images/I/61tGCyr-oAL._AC_UL320_.jpg\n",
      "https://m.media-amazon.com/images/I/51rjk3sFv7L._AC_UL320_.jpg\n",
      "https://m.media-amazon.com/images/I/61PQaurdeiL._AC_UL320_.jpg\n",
      "https://m.media-amazon.com/images/I/61P4M08j45L._AC_UL320_.jpg\n",
      "https://m.media-amazon.com/images/I/81nqtPBlV8L._AC_UL320_.jpg\n",
      "https://m.media-amazon.com/images/I/71lbNa-JOvL._AC_UL320_.jpg\n",
      "https://m.media-amazon.com/images/I/61mlWcgzsYL._AC_UL320_.jpg\n",
      "https://m.media-amazon.com/images/I/61IpAurpNXL._AC_UL320_.jpg\n",
      "https://m.media-amazon.com/images/I/81NqeLl3o3L._AC_UL320_.jpg\n",
      "https://m.media-amazon.com/images/I/715Fafla7yL._AC_UL320_.jpg\n",
      "https://m.media-amazon.com/images/I/61JYLnyshsL._AC_UL320_.jpg\n",
      "https://m.media-amazon.com/images/I/71RQngeB81L._AC_UL320_.jpg\n",
      "https://m.media-amazon.com/images/I/61MXgs0tGOL._AC_UL320_.jpg\n",
      "https://m.media-amazon.com/images/I/71UndEkf1kL._AC_UL320_.jpg\n",
      "https://m.media-amazon.com/images/I/31Svoe+L95L._AC_UL320_.jpg\n",
      "https://m.media-amazon.com/images/I/81aqT6ENDZL._AC_UL320_.jpg\n",
      "https://m.media-amazon.com/images/I/81-WTP9WOEL._AC_UL320_.jpg\n",
      "https://m.media-amazon.com/images/I/71pptbGD1sL._AC_UL320_.jpg\n",
      "https://m.media-amazon.com/images/I/61Be99N1jcL._AC_UL320_.jpg\n",
      "https://m.media-amazon.com/images/I/41+lVUQWJgL._AC_UL320_.jpg\n",
      "https://m.media-amazon.com/images/I/71pKs4fYWAL._AC_UL320_.jpg\n",
      "https://m.media-amazon.com/images/I/71K3-rYkPHL._AC_UL320_.jpg\n",
      "https://m.media-amazon.com/images/I/71DdtSY0NYL._AC_UL320_.jpg\n",
      "https://m.media-amazon.com/images/I/618kcPPZqvL._AC_UL320_.jpg\n",
      "https://m.media-amazon.com/images/I/81SHFLuzGuL._AC_UL320_.jpg\n",
      "https://m.media-amazon.com/images/I/51LHm9qj6AL._AC_UL320_.jpg\n",
      "https://m.media-amazon.com/images/I/71m8gGHNTnL._AC_UL320_.jpg\n",
      "https://m.media-amazon.com/images/I/41LEAVDrZkL._AC_UL320_.jpg\n",
      "https://m.media-amazon.com/images/I/71MqV96-iQL._AC_UL320_.jpg\n",
      "https://m.media-amazon.com/images/I/61pI-CKVJvL._AC_UL320_.jpg\n",
      "https://m.media-amazon.com/images/I/81ffrUhUjPL._AC_UL320_.jpg\n",
      "https://m.media-amazon.com/images/I/61Hioq6bGBL._AC_UL320_.jpg\n",
      "https://m.media-amazon.com/images/I/61l+l5-cf9L._AC_UL320_.jpg\n",
      "https://m.media-amazon.com/images/I/41Wxb75p-GL._AC_UL320_.jpg\n",
      "https://m.media-amazon.com/images/I/516qeKJXTtL._AC_UL320_.jpg\n"
     ]
    }
   ],
   "source": [
    "urls=[]\n",
    "for image in images:\n",
    "    source = image.get_attribute('src')\n",
    "    urls.append(source)\n",
    "    print(source)"
   ]
  },
  {
   "cell_type": "code",
   "execution_count": 37,
   "metadata": {},
   "outputs": [
    {
     "data": {
      "text/plain": [
       "62"
      ]
     },
     "execution_count": 37,
     "metadata": {},
     "output_type": "execute_result"
    }
   ],
   "source": [
    "len(urls)"
   ]
  },
  {
   "cell_type": "code",
   "execution_count": 38,
   "metadata": {},
   "outputs": [
    {
     "name": "stdout",
     "output_type": "stream",
     "text": [
      "Downloading 1 of 62 images\n",
      "Downloading 2 of 62 images\n",
      "Downloading 3 of 62 images\n",
      "Downloading 4 of 62 images\n",
      "Downloading 5 of 62 images\n",
      "Downloading 6 of 62 images\n",
      "Downloading 7 of 62 images\n",
      "Downloading 8 of 62 images\n",
      "Downloading 9 of 62 images\n",
      "Downloading 10 of 62 images\n",
      "Downloading 11 of 62 images\n",
      "Downloading 12 of 62 images\n",
      "Downloading 13 of 62 images\n",
      "Downloading 14 of 62 images\n",
      "Downloading 15 of 62 images\n",
      "Downloading 16 of 62 images\n",
      "Downloading 17 of 62 images\n",
      "Downloading 18 of 62 images\n",
      "Downloading 19 of 62 images\n",
      "Downloading 20 of 62 images\n",
      "Downloading 21 of 62 images\n",
      "Downloading 22 of 62 images\n",
      "Downloading 23 of 62 images\n",
      "Downloading 24 of 62 images\n",
      "Downloading 25 of 62 images\n",
      "Downloading 26 of 62 images\n",
      "Downloading 27 of 62 images\n",
      "Downloading 28 of 62 images\n",
      "Downloading 29 of 62 images\n",
      "Downloading 30 of 62 images\n",
      "Downloading 31 of 62 images\n",
      "Downloading 32 of 62 images\n",
      "Downloading 33 of 62 images\n",
      "Downloading 34 of 62 images\n",
      "Downloading 35 of 62 images\n",
      "Downloading 36 of 62 images\n",
      "Downloading 37 of 62 images\n",
      "Downloading 38 of 62 images\n",
      "Downloading 39 of 62 images\n",
      "Downloading 40 of 62 images\n",
      "Downloading 41 of 62 images\n",
      "Downloading 42 of 62 images\n",
      "Downloading 43 of 62 images\n",
      "Downloading 44 of 62 images\n",
      "Downloading 45 of 62 images\n",
      "Downloading 46 of 62 images\n",
      "Downloading 47 of 62 images\n",
      "Downloading 48 of 62 images\n",
      "Downloading 49 of 62 images\n",
      "Downloading 50 of 62 images\n",
      "Downloading 51 of 62 images\n",
      "Downloading 52 of 62 images\n",
      "Downloading 53 of 62 images\n",
      "Downloading 54 of 62 images\n",
      "Downloading 55 of 62 images\n",
      "Downloading 56 of 62 images\n",
      "Downloading 57 of 62 images\n",
      "Downloading 58 of 62 images\n",
      "Downloading 59 of 62 images\n",
      "Downloading 60 of 62 images\n",
      "Downloading 61 of 62 images\n",
      "Downloading 62 of 62 images\n"
     ]
    }
   ],
   "source": [
    "import shutil\n",
    "import requests\n",
    "\n",
    "for index, link in enumerate(urls):\n",
    "    print(\"Downloading {0} of {1} images\".format(index+1, len(urls)))\n",
    "    response= requests.get(link)\n",
    "    with open('amazon_t-shirts/img_{0}.jpeg'.format(index), \"wb\") as file:\n",
    "        file.write(response.content)\n"
   ]
  },
  {
   "cell_type": "markdown",
   "metadata": {},
   "source": [
    "# 2nd Page of t-shirts"
   ]
  },
  {
   "cell_type": "code",
   "execution_count": 39,
   "metadata": {},
   "outputs": [],
   "source": [
    "my_page=driver.get(\"https://www.amazon.in/s?k=t-shirts&page=2&qid=1593958881&ref=sr_pg_2\")"
   ]
  },
  {
   "cell_type": "code",
   "execution_count": 40,
   "metadata": {},
   "outputs": [],
   "source": [
    "def make_directory(dirname):\n",
    "    current_path=os.getcwd()\n",
    "    path=os.path.join(current_path, dirname)\n",
    "    if not os.path.exists(path):\n",
    "        os.makedirs(path)"
   ]
  },
  {
   "cell_type": "code",
   "execution_count": 41,
   "metadata": {},
   "outputs": [],
   "source": [
    "make_directory(\"amazon_t-shirts1\")"
   ]
  },
  {
   "cell_type": "code",
   "execution_count": 42,
   "metadata": {},
   "outputs": [
    {
     "name": "stdout",
     "output_type": "stream",
     "text": [
      "[<selenium.webdriver.remote.webelement.WebElement (session=\"7400670b4fdf577299673eed1210dfc1\", element=\"86a2fe24-86b9-4594-be9c-e7464f0c5d76\")>, <selenium.webdriver.remote.webelement.WebElement (session=\"7400670b4fdf577299673eed1210dfc1\", element=\"0b537a09-bd48-4125-989e-11959b1b7cd1\")>, <selenium.webdriver.remote.webelement.WebElement (session=\"7400670b4fdf577299673eed1210dfc1\", element=\"767b0235-081c-45e4-a814-bc644c8426ae\")>, <selenium.webdriver.remote.webelement.WebElement (session=\"7400670b4fdf577299673eed1210dfc1\", element=\"de505103-64bb-4d5d-abe0-d9a408c1479e\")>, <selenium.webdriver.remote.webelement.WebElement (session=\"7400670b4fdf577299673eed1210dfc1\", element=\"83e77e3f-06ed-4083-b65b-ca9aeedb35d1\")>, <selenium.webdriver.remote.webelement.WebElement (session=\"7400670b4fdf577299673eed1210dfc1\", element=\"ba273695-6b3d-4f59-9e3a-895699fd9d59\")>, <selenium.webdriver.remote.webelement.WebElement (session=\"7400670b4fdf577299673eed1210dfc1\", element=\"1b6ede83-60c9-49e3-9222-6f2150048c1b\")>, <selenium.webdriver.remote.webelement.WebElement (session=\"7400670b4fdf577299673eed1210dfc1\", element=\"653e5f61-3ec2-4eed-b32a-20a322de65dd\")>, <selenium.webdriver.remote.webelement.WebElement (session=\"7400670b4fdf577299673eed1210dfc1\", element=\"91925686-170d-4863-84eb-614bb21e677d\")>, <selenium.webdriver.remote.webelement.WebElement (session=\"7400670b4fdf577299673eed1210dfc1\", element=\"186c7b72-f4f2-4afc-8a9c-851d97f96fa2\")>, <selenium.webdriver.remote.webelement.WebElement (session=\"7400670b4fdf577299673eed1210dfc1\", element=\"610bee03-eec3-4c0a-9c09-fc9473aa8a5b\")>, <selenium.webdriver.remote.webelement.WebElement (session=\"7400670b4fdf577299673eed1210dfc1\", element=\"1cc06dd1-3f27-408b-b6a8-915bef269300\")>, <selenium.webdriver.remote.webelement.WebElement (session=\"7400670b4fdf577299673eed1210dfc1\", element=\"fe144ae8-0066-4ef6-b408-db1f2fecfde3\")>, <selenium.webdriver.remote.webelement.WebElement (session=\"7400670b4fdf577299673eed1210dfc1\", element=\"11ce47fe-1321-4cf0-a876-bb2de352d79a\")>, <selenium.webdriver.remote.webelement.WebElement (session=\"7400670b4fdf577299673eed1210dfc1\", element=\"bffc129b-bac4-42fe-b2be-85d3e6510cc9\")>, <selenium.webdriver.remote.webelement.WebElement (session=\"7400670b4fdf577299673eed1210dfc1\", element=\"99f90ec8-2ef2-4186-b48c-1a22c0a2c479\")>, <selenium.webdriver.remote.webelement.WebElement (session=\"7400670b4fdf577299673eed1210dfc1\", element=\"9ded6bc4-8162-4dcc-a396-bc8a0facd0de\")>, <selenium.webdriver.remote.webelement.WebElement (session=\"7400670b4fdf577299673eed1210dfc1\", element=\"d4749ca5-9b11-4e64-9fef-b20b97ef453f\")>, <selenium.webdriver.remote.webelement.WebElement (session=\"7400670b4fdf577299673eed1210dfc1\", element=\"9fef8524-8c3e-433f-b696-bcc4be3ec4ae\")>, <selenium.webdriver.remote.webelement.WebElement (session=\"7400670b4fdf577299673eed1210dfc1\", element=\"4a86ce2b-2be9-45d6-a435-2610ca597efe\")>, <selenium.webdriver.remote.webelement.WebElement (session=\"7400670b4fdf577299673eed1210dfc1\", element=\"08cafb53-e1f0-4666-926d-3366c426e49f\")>, <selenium.webdriver.remote.webelement.WebElement (session=\"7400670b4fdf577299673eed1210dfc1\", element=\"40ba15cb-de81-45e7-898f-723ebf68f668\")>, <selenium.webdriver.remote.webelement.WebElement (session=\"7400670b4fdf577299673eed1210dfc1\", element=\"dc27b4a4-3eb4-426f-9478-7b01e892bde8\")>, <selenium.webdriver.remote.webelement.WebElement (session=\"7400670b4fdf577299673eed1210dfc1\", element=\"c9e7189a-de45-4690-a311-5ebbd639c0b9\")>, <selenium.webdriver.remote.webelement.WebElement (session=\"7400670b4fdf577299673eed1210dfc1\", element=\"e14882b7-cdde-47b2-b5c4-c779d2e8ea86\")>, <selenium.webdriver.remote.webelement.WebElement (session=\"7400670b4fdf577299673eed1210dfc1\", element=\"8c4d9feb-622b-4687-b3b3-7052ad828443\")>, <selenium.webdriver.remote.webelement.WebElement (session=\"7400670b4fdf577299673eed1210dfc1\", element=\"871792ae-8015-4ebd-8c1c-1c76efd6c65a\")>, <selenium.webdriver.remote.webelement.WebElement (session=\"7400670b4fdf577299673eed1210dfc1\", element=\"66ff2c47-83a2-4d90-b7a4-2e923e680a4e\")>, <selenium.webdriver.remote.webelement.WebElement (session=\"7400670b4fdf577299673eed1210dfc1\", element=\"750ddd75-6716-4e0e-bc5b-e09503c116a7\")>, <selenium.webdriver.remote.webelement.WebElement (session=\"7400670b4fdf577299673eed1210dfc1\", element=\"29e3f2b5-fd85-4887-8267-d939fb199f74\")>, <selenium.webdriver.remote.webelement.WebElement (session=\"7400670b4fdf577299673eed1210dfc1\", element=\"25984ed1-1372-4ce6-b6bd-844475346723\")>, <selenium.webdriver.remote.webelement.WebElement (session=\"7400670b4fdf577299673eed1210dfc1\", element=\"13d26dec-3d20-431b-b821-b5b04fa744fc\")>, <selenium.webdriver.remote.webelement.WebElement (session=\"7400670b4fdf577299673eed1210dfc1\", element=\"5a5456fc-02bf-4a0e-b25a-f55e2480b92b\")>, <selenium.webdriver.remote.webelement.WebElement (session=\"7400670b4fdf577299673eed1210dfc1\", element=\"67eaa3cc-d866-4771-9dd6-365416cbd071\")>, <selenium.webdriver.remote.webelement.WebElement (session=\"7400670b4fdf577299673eed1210dfc1\", element=\"ccbf3f3a-2d33-432e-97ca-e5dc69359964\")>, <selenium.webdriver.remote.webelement.WebElement (session=\"7400670b4fdf577299673eed1210dfc1\", element=\"3b79c139-a808-42f8-a15e-2b4817c77f0a\")>, <selenium.webdriver.remote.webelement.WebElement (session=\"7400670b4fdf577299673eed1210dfc1\", element=\"9fb41587-1a53-4891-9a44-1d2baf4cfba0\")>, <selenium.webdriver.remote.webelement.WebElement (session=\"7400670b4fdf577299673eed1210dfc1\", element=\"e335ad5f-01b3-4fc4-b758-63b119802869\")>, <selenium.webdriver.remote.webelement.WebElement (session=\"7400670b4fdf577299673eed1210dfc1\", element=\"f49e69ed-930f-47a2-b3a6-ce88d67f6be7\")>, <selenium.webdriver.remote.webelement.WebElement (session=\"7400670b4fdf577299673eed1210dfc1\", element=\"d9f001e1-0603-4028-8f38-39150f8708be\")>, <selenium.webdriver.remote.webelement.WebElement (session=\"7400670b4fdf577299673eed1210dfc1\", element=\"841d164f-b429-4d46-9410-caece069aa42\")>, <selenium.webdriver.remote.webelement.WebElement (session=\"7400670b4fdf577299673eed1210dfc1\", element=\"89dd93c7-c6f5-47d6-9444-f2a11207cb3b\")>, <selenium.webdriver.remote.webelement.WebElement (session=\"7400670b4fdf577299673eed1210dfc1\", element=\"a63dc6ff-95e3-444b-a679-6643d6b1f342\")>, <selenium.webdriver.remote.webelement.WebElement (session=\"7400670b4fdf577299673eed1210dfc1\", element=\"72e774b9-9ce6-45db-a001-31ef445f5871\")>, <selenium.webdriver.remote.webelement.WebElement (session=\"7400670b4fdf577299673eed1210dfc1\", element=\"194c5bf5-9d9f-4a37-b280-b5e3cb968fb1\")>, <selenium.webdriver.remote.webelement.WebElement (session=\"7400670b4fdf577299673eed1210dfc1\", element=\"f58a5796-b91a-4d77-8e90-bf595335da39\")>, <selenium.webdriver.remote.webelement.WebElement (session=\"7400670b4fdf577299673eed1210dfc1\", element=\"5471f2dc-0210-460b-9bab-3575c50a6d39\")>, <selenium.webdriver.remote.webelement.WebElement (session=\"7400670b4fdf577299673eed1210dfc1\", element=\"6ad64f89-51e2-4475-b129-a43637a7a4b6\")>, <selenium.webdriver.remote.webelement.WebElement (session=\"7400670b4fdf577299673eed1210dfc1\", element=\"a5555cb8-bd57-47ae-896f-52e9f9ae9c65\")>, <selenium.webdriver.remote.webelement.WebElement (session=\"7400670b4fdf577299673eed1210dfc1\", element=\"32939a4b-abba-4564-8d5f-1839bd8e44ea\")>, <selenium.webdriver.remote.webelement.WebElement (session=\"7400670b4fdf577299673eed1210dfc1\", element=\"455ac4c8-124a-4684-9000-80a32a88a10e\")>, <selenium.webdriver.remote.webelement.WebElement (session=\"7400670b4fdf577299673eed1210dfc1\", element=\"aa76cde1-2d1b-4453-937f-ee673f5b1a02\")>, <selenium.webdriver.remote.webelement.WebElement (session=\"7400670b4fdf577299673eed1210dfc1\", element=\"8ba2f35a-e2cd-46b0-a6df-79b302778c4b\")>, <selenium.webdriver.remote.webelement.WebElement (session=\"7400670b4fdf577299673eed1210dfc1\", element=\"26756244-51ee-4a5d-8075-4afba20d15d1\")>, <selenium.webdriver.remote.webelement.WebElement (session=\"7400670b4fdf577299673eed1210dfc1\", element=\"c8583d05-16e6-4f20-a53f-bf904e77deea\")>, <selenium.webdriver.remote.webelement.WebElement (session=\"7400670b4fdf577299673eed1210dfc1\", element=\"ad969089-f310-48f9-81da-82ad0363b0e7\")>]\n"
     ]
    }
   ],
   "source": [
    "images = driver.find_elements_by_xpath(\"//img[@class= 's-image']\")\n",
    "print(images)"
   ]
  },
  {
   "cell_type": "code",
   "execution_count": 43,
   "metadata": {},
   "outputs": [
    {
     "name": "stdout",
     "output_type": "stream",
     "text": [
      "https://m.media-amazon.com/images/I/71LFEt6Ho-L._AC_UL320_.jpg\n",
      "https://m.media-amazon.com/images/I/817VA+Xp5JL._AC_UL320_.jpg\n",
      "https://m.media-amazon.com/images/I/81LvBSIofGL._AC_UL320_.jpg\n",
      "https://m.media-amazon.com/images/I/41fo4pQwGWL._AC_UL320_.jpg\n",
      "https://m.media-amazon.com/images/I/81R0vFcZR6L._AC_UL320_.jpg\n",
      "https://m.media-amazon.com/images/I/712aeQo4CtL._AC_UL320_.jpg\n",
      "https://m.media-amazon.com/images/I/81sYtr3RcvL._AC_UL320_.jpg\n",
      "https://m.media-amazon.com/images/I/51johDbaGWL._AC_UL320_.jpg\n",
      "https://m.media-amazon.com/images/I/71ApKNioIoL._AC_UL320_.jpg\n",
      "https://m.media-amazon.com/images/I/618COfjhmZL._AC_UL320_.jpg\n",
      "https://m.media-amazon.com/images/I/817b1Bm-KbL._AC_UL320_.jpg\n",
      "https://m.media-amazon.com/images/I/417ZXXx4WnL._AC_UL320_.jpg\n",
      "https://m.media-amazon.com/images/I/71PGaPHU+aL._AC_UL320_.jpg\n",
      "https://m.media-amazon.com/images/I/610EJ6fVJTL._AC_UL320_.jpg\n",
      "https://m.media-amazon.com/images/I/71hjBZcVyOL._AC_UL320_.jpg\n",
      "https://m.media-amazon.com/images/I/91pOc2a6j5L._AC_UL320_.jpg\n",
      "https://m.media-amazon.com/images/I/619Y3gwSpXL._AC_UL320_.jpg\n",
      "https://m.media-amazon.com/images/I/71872ZIOagL._AC_UL320_.jpg\n",
      "https://m.media-amazon.com/images/I/71l2ZjMQsML._AC_UL320_.jpg\n",
      "https://m.media-amazon.com/images/I/81LSZ14pl2L._AC_UL320_.jpg\n",
      "https://m.media-amazon.com/images/I/71IAAXHE2FL._AC_UL320_.jpg\n",
      "https://m.media-amazon.com/images/I/718e7fiDVsL._AC_UL320_.jpg\n",
      "https://m.media-amazon.com/images/I/51rjk3sFv7L._AC_UL320_.jpg\n",
      "https://m.media-amazon.com/images/I/516qeKJXTtL._AC_UL320_.jpg\n",
      "https://m.media-amazon.com/images/I/81e92QiOTkL._AC_UL320_.jpg\n",
      "https://m.media-amazon.com/images/I/71M5Y9eocIL._AC_UL320_.jpg\n",
      "https://m.media-amazon.com/images/I/81NXw8FQ2-L._AC_UL320_.jpg\n",
      "https://m.media-amazon.com/images/I/91PaE83LlwL._AC_UL320_.jpg\n",
      "https://m.media-amazon.com/images/I/71KyYvbmwNL._AC_UL320_.jpg\n",
      "https://m.media-amazon.com/images/I/713dmbFfM3L._AC_UL320_.jpg\n",
      "https://m.media-amazon.com/images/I/717Hp0e8KgL._AC_UL320_.jpg\n",
      "https://m.media-amazon.com/images/I/71--K0Ab1cL._AC_UL320_.jpg\n",
      "https://m.media-amazon.com/images/I/71J-eGIz5KL._AC_UL320_.jpg\n",
      "https://m.media-amazon.com/images/I/81KopgL8w2L._AC_UL320_.jpg\n",
      "https://m.media-amazon.com/images/I/71Plp3KMtdL._AC_UL320_.jpg\n",
      "https://m.media-amazon.com/images/I/61TlYq49fGL._AC_UL320_.jpg\n",
      "https://m.media-amazon.com/images/I/71kswmNBZIL._AC_UL320_.jpg\n",
      "https://m.media-amazon.com/images/I/71DLAQaKQKL._AC_UL320_.jpg\n",
      "https://m.media-amazon.com/images/I/61fat3DGHzL._AC_UL320_.jpg\n",
      "https://m.media-amazon.com/images/I/61V54DZVY8L._AC_UL320_.jpg\n",
      "https://m.media-amazon.com/images/I/61qRM+JEgQL._AC_UL320_.jpg\n",
      "https://m.media-amazon.com/images/I/81nI2cIFFPL._AC_UL320_.jpg\n",
      "https://m.media-amazon.com/images/I/81N57nQ1f1L._AC_UL320_.jpg\n",
      "https://m.media-amazon.com/images/I/71dCnA5BC1L._AC_UL320_.jpg\n",
      "https://m.media-amazon.com/images/I/71FcDRkyXtL._AC_UL320_.jpg\n",
      "https://m.media-amazon.com/images/I/71ab+4XLYqL._AC_UL320_.jpg\n",
      "https://m.media-amazon.com/images/I/719zAZPZvWL._AC_UL320_.jpg\n",
      "https://m.media-amazon.com/images/I/71drcZg926L._AC_UL320_.jpg\n",
      "https://m.media-amazon.com/images/I/519NVkqDQmL._AC_UL320_.jpg\n",
      "https://m.media-amazon.com/images/I/81X1sVdQ-3L._AC_UL320_.jpg\n",
      "https://m.media-amazon.com/images/I/81R74LXyvCL._AC_UL320_.jpg\n",
      "https://m.media-amazon.com/images/I/71+l9QtHTtL._AC_UL320_.jpg\n",
      "https://m.media-amazon.com/images/I/81cN0nJ63gL._AC_UL320_.jpg\n",
      "https://m.media-amazon.com/images/I/6109JHCJXTL._AC_UL320_.jpg\n",
      "https://m.media-amazon.com/images/I/71ICbt7pjHL._AC_UL320_.jpg\n",
      "https://m.media-amazon.com/images/I/61WR83cOEyL._AC_UL320_.jpg\n"
     ]
    }
   ],
   "source": [
    "urls=[]\n",
    "for image in images:\n",
    "    source = image.get_attribute('src')\n",
    "    urls.append(source)\n",
    "    print(source)"
   ]
  },
  {
   "cell_type": "code",
   "execution_count": 44,
   "metadata": {},
   "outputs": [
    {
     "data": {
      "text/plain": [
       "56"
      ]
     },
     "execution_count": 44,
     "metadata": {},
     "output_type": "execute_result"
    }
   ],
   "source": [
    "len(urls)"
   ]
  },
  {
   "cell_type": "code",
   "execution_count": 45,
   "metadata": {},
   "outputs": [
    {
     "name": "stdout",
     "output_type": "stream",
     "text": [
      "Downloading 57 of 56 images\n",
      "Downloading 58 of 56 images\n",
      "Downloading 59 of 56 images\n",
      "Downloading 60 of 56 images\n",
      "Downloading 61 of 56 images\n",
      "Downloading 62 of 56 images\n",
      "Downloading 63 of 56 images\n",
      "Downloading 64 of 56 images\n",
      "Downloading 65 of 56 images\n",
      "Downloading 66 of 56 images\n",
      "Downloading 67 of 56 images\n",
      "Downloading 68 of 56 images\n",
      "Downloading 69 of 56 images\n",
      "Downloading 70 of 56 images\n",
      "Downloading 71 of 56 images\n",
      "Downloading 72 of 56 images\n",
      "Downloading 73 of 56 images\n",
      "Downloading 74 of 56 images\n",
      "Downloading 75 of 56 images\n",
      "Downloading 76 of 56 images\n",
      "Downloading 77 of 56 images\n",
      "Downloading 78 of 56 images\n",
      "Downloading 79 of 56 images\n",
      "Downloading 80 of 56 images\n",
      "Downloading 81 of 56 images\n",
      "Downloading 82 of 56 images\n",
      "Downloading 83 of 56 images\n",
      "Downloading 84 of 56 images\n",
      "Downloading 85 of 56 images\n",
      "Downloading 86 of 56 images\n",
      "Downloading 87 of 56 images\n",
      "Downloading 88 of 56 images\n",
      "Downloading 89 of 56 images\n",
      "Downloading 90 of 56 images\n",
      "Downloading 91 of 56 images\n",
      "Downloading 92 of 56 images\n",
      "Downloading 93 of 56 images\n",
      "Downloading 94 of 56 images\n",
      "Downloading 95 of 56 images\n",
      "Downloading 96 of 56 images\n",
      "Downloading 97 of 56 images\n",
      "Downloading 98 of 56 images\n",
      "Downloading 99 of 56 images\n",
      "Downloading 100 of 56 images\n",
      "Downloading 101 of 56 images\n",
      "Downloading 102 of 56 images\n",
      "Downloading 103 of 56 images\n",
      "Downloading 104 of 56 images\n",
      "Downloading 105 of 56 images\n",
      "Downloading 106 of 56 images\n",
      "Downloading 107 of 56 images\n",
      "Downloading 108 of 56 images\n",
      "Downloading 109 of 56 images\n",
      "Downloading 110 of 56 images\n",
      "Downloading 111 of 56 images\n",
      "Downloading 112 of 56 images\n"
     ]
    }
   ],
   "source": [
    "import shutil\n",
    "import requests\n",
    "\n",
    "for index, link in enumerate(urls):\n",
    "    print(\"Downloading {0} of {1} images\".format(index+57, len(urls)))\n",
    "    response= requests.get(link)\n",
    "    with open('amazon_t-shirts1/img_{0}.jpeg'.format(index), \"wb\") as file:\n",
    "        file.write(response.content)"
   ]
  },
  {
   "cell_type": "markdown",
   "metadata": {},
   "source": [
    "# Downloading the images of shirts"
   ]
  },
  {
   "cell_type": "code",
   "execution_count": 46,
   "metadata": {},
   "outputs": [],
   "source": [
    "my_page=driver.get(\"https://www.amazon.in/s?k=shirts&ref=nb_sb_noss_2\")"
   ]
  },
  {
   "cell_type": "code",
   "execution_count": 47,
   "metadata": {},
   "outputs": [],
   "source": [
    "def make_directory(dirname):\n",
    "    current_path=os.getcwd()\n",
    "    path=os.path.join(current_path, dirname)\n",
    "    if not os.path.exists(path):\n",
    "        os.makedirs(path)"
   ]
  },
  {
   "cell_type": "code",
   "execution_count": 48,
   "metadata": {},
   "outputs": [],
   "source": [
    "make_directory(\"amazon_shirts\")"
   ]
  },
  {
   "cell_type": "code",
   "execution_count": 49,
   "metadata": {},
   "outputs": [
    {
     "name": "stdout",
     "output_type": "stream",
     "text": [
      "[<selenium.webdriver.remote.webelement.WebElement (session=\"7400670b4fdf577299673eed1210dfc1\", element=\"a28044b2-5b71-4b73-a3de-3276695ea813\")>, <selenium.webdriver.remote.webelement.WebElement (session=\"7400670b4fdf577299673eed1210dfc1\", element=\"22ac7381-4ee5-48bc-a890-559c37658b10\")>, <selenium.webdriver.remote.webelement.WebElement (session=\"7400670b4fdf577299673eed1210dfc1\", element=\"dc6198bd-5655-4e68-9446-8d369a12e77b\")>, <selenium.webdriver.remote.webelement.WebElement (session=\"7400670b4fdf577299673eed1210dfc1\", element=\"e5eec247-e0bf-4627-91ad-a7a92ba8e5de\")>, <selenium.webdriver.remote.webelement.WebElement (session=\"7400670b4fdf577299673eed1210dfc1\", element=\"dd1e7972-33be-437e-bbdb-b31d22dbbd06\")>, <selenium.webdriver.remote.webelement.WebElement (session=\"7400670b4fdf577299673eed1210dfc1\", element=\"62a7535b-4a1d-4d46-b5dd-60a935dd69d2\")>, <selenium.webdriver.remote.webelement.WebElement (session=\"7400670b4fdf577299673eed1210dfc1\", element=\"c0daacfe-df00-4db4-b572-71b1997e9613\")>, <selenium.webdriver.remote.webelement.WebElement (session=\"7400670b4fdf577299673eed1210dfc1\", element=\"20ed46b6-8e4d-4ef9-a381-a353fde6a91e\")>, <selenium.webdriver.remote.webelement.WebElement (session=\"7400670b4fdf577299673eed1210dfc1\", element=\"3650c599-89ce-4732-95e9-08fde65fe73c\")>, <selenium.webdriver.remote.webelement.WebElement (session=\"7400670b4fdf577299673eed1210dfc1\", element=\"c5a51713-1310-4142-995e-62972b39f2fc\")>, <selenium.webdriver.remote.webelement.WebElement (session=\"7400670b4fdf577299673eed1210dfc1\", element=\"f5984413-debf-4b2f-968d-ba9b2a986fb3\")>, <selenium.webdriver.remote.webelement.WebElement (session=\"7400670b4fdf577299673eed1210dfc1\", element=\"7290b8a2-642d-49b3-9d1e-608316c78b28\")>, <selenium.webdriver.remote.webelement.WebElement (session=\"7400670b4fdf577299673eed1210dfc1\", element=\"0b46bbba-21ea-454a-a0f9-777a5435dfd4\")>, <selenium.webdriver.remote.webelement.WebElement (session=\"7400670b4fdf577299673eed1210dfc1\", element=\"1391a677-683f-4d2f-9119-cf399428a46f\")>, <selenium.webdriver.remote.webelement.WebElement (session=\"7400670b4fdf577299673eed1210dfc1\", element=\"3e333ff6-2819-4c39-9d0e-fbffe6ea6f06\")>, <selenium.webdriver.remote.webelement.WebElement (session=\"7400670b4fdf577299673eed1210dfc1\", element=\"62069121-7348-4a03-b373-9006f17396d0\")>, <selenium.webdriver.remote.webelement.WebElement (session=\"7400670b4fdf577299673eed1210dfc1\", element=\"17dfe34c-b04c-4d58-aa09-6384c54c2c58\")>, <selenium.webdriver.remote.webelement.WebElement (session=\"7400670b4fdf577299673eed1210dfc1\", element=\"22daaa4d-f8ea-44dc-bb58-f18bca4889ef\")>, <selenium.webdriver.remote.webelement.WebElement (session=\"7400670b4fdf577299673eed1210dfc1\", element=\"287f3424-f4c2-45b9-9a01-f48727efd085\")>, <selenium.webdriver.remote.webelement.WebElement (session=\"7400670b4fdf577299673eed1210dfc1\", element=\"3c251bbd-acaa-4355-a478-2fc26a34c96a\")>, <selenium.webdriver.remote.webelement.WebElement (session=\"7400670b4fdf577299673eed1210dfc1\", element=\"f939829c-e099-4d93-811d-5156c5651e2d\")>, <selenium.webdriver.remote.webelement.WebElement (session=\"7400670b4fdf577299673eed1210dfc1\", element=\"c4c81c39-ffe8-4344-a3e6-4ade4c340278\")>, <selenium.webdriver.remote.webelement.WebElement (session=\"7400670b4fdf577299673eed1210dfc1\", element=\"32b19a5e-074d-4e7b-a593-a968ba7fcd03\")>, <selenium.webdriver.remote.webelement.WebElement (session=\"7400670b4fdf577299673eed1210dfc1\", element=\"de857f14-29ae-4076-90e7-6df8e2b727ab\")>, <selenium.webdriver.remote.webelement.WebElement (session=\"7400670b4fdf577299673eed1210dfc1\", element=\"2ef57e58-944b-47ab-b16a-8c45d8785c8f\")>, <selenium.webdriver.remote.webelement.WebElement (session=\"7400670b4fdf577299673eed1210dfc1\", element=\"951bb7bc-7899-4b99-8101-aee6f4fb0e0e\")>, <selenium.webdriver.remote.webelement.WebElement (session=\"7400670b4fdf577299673eed1210dfc1\", element=\"eb5d349d-1549-4ad4-8e92-5f902d4d09b9\")>, <selenium.webdriver.remote.webelement.WebElement (session=\"7400670b4fdf577299673eed1210dfc1\", element=\"a459164e-74ce-4f93-8605-edec2407a718\")>, <selenium.webdriver.remote.webelement.WebElement (session=\"7400670b4fdf577299673eed1210dfc1\", element=\"a7cb9d6a-b4f5-474a-91e4-9d1d34eea183\")>, <selenium.webdriver.remote.webelement.WebElement (session=\"7400670b4fdf577299673eed1210dfc1\", element=\"5791edc4-d48a-40fa-941e-0ce3d1c02ddc\")>, <selenium.webdriver.remote.webelement.WebElement (session=\"7400670b4fdf577299673eed1210dfc1\", element=\"5283ad91-15b1-44f6-b6d3-fc71992b839f\")>, <selenium.webdriver.remote.webelement.WebElement (session=\"7400670b4fdf577299673eed1210dfc1\", element=\"63987b53-2aaf-4b0f-b934-58126bba9c71\")>, <selenium.webdriver.remote.webelement.WebElement (session=\"7400670b4fdf577299673eed1210dfc1\", element=\"2913fc67-93fb-45a1-9031-f269d52d64e5\")>, <selenium.webdriver.remote.webelement.WebElement (session=\"7400670b4fdf577299673eed1210dfc1\", element=\"82f2a726-3bbe-4b32-a3b0-fc2fd6a3a7f6\")>, <selenium.webdriver.remote.webelement.WebElement (session=\"7400670b4fdf577299673eed1210dfc1\", element=\"def3158c-328c-481a-9bbe-a65ba9e29a6c\")>, <selenium.webdriver.remote.webelement.WebElement (session=\"7400670b4fdf577299673eed1210dfc1\", element=\"d2413fd3-4d51-4030-a092-2dcbd0e28ec6\")>, <selenium.webdriver.remote.webelement.WebElement (session=\"7400670b4fdf577299673eed1210dfc1\", element=\"dade5da7-1350-4b58-b43c-ef64ec287d85\")>, <selenium.webdriver.remote.webelement.WebElement (session=\"7400670b4fdf577299673eed1210dfc1\", element=\"a68de58c-7a5a-4974-a2b2-9566f82c213e\")>, <selenium.webdriver.remote.webelement.WebElement (session=\"7400670b4fdf577299673eed1210dfc1\", element=\"c5e1de52-4c6d-41f7-8611-d6ec7a08a144\")>, <selenium.webdriver.remote.webelement.WebElement (session=\"7400670b4fdf577299673eed1210dfc1\", element=\"8e3a891c-903d-41fb-be50-f2791a3635d0\")>, <selenium.webdriver.remote.webelement.WebElement (session=\"7400670b4fdf577299673eed1210dfc1\", element=\"0ceddf4b-cc49-444d-bfca-aedfe0a91138\")>, <selenium.webdriver.remote.webelement.WebElement (session=\"7400670b4fdf577299673eed1210dfc1\", element=\"3207fc41-8210-474e-b078-d70d3793aeca\")>, <selenium.webdriver.remote.webelement.WebElement (session=\"7400670b4fdf577299673eed1210dfc1\", element=\"2a2444af-b6e8-480a-bb2c-4f2742bbfe2f\")>, <selenium.webdriver.remote.webelement.WebElement (session=\"7400670b4fdf577299673eed1210dfc1\", element=\"206a4fb4-4afa-4936-bdcf-2f07a04572f1\")>, <selenium.webdriver.remote.webelement.WebElement (session=\"7400670b4fdf577299673eed1210dfc1\", element=\"39e0fe44-6765-494f-9907-dda1925331dc\")>, <selenium.webdriver.remote.webelement.WebElement (session=\"7400670b4fdf577299673eed1210dfc1\", element=\"c3489e0d-f4d3-46db-b213-000dc7b4ecfe\")>, <selenium.webdriver.remote.webelement.WebElement (session=\"7400670b4fdf577299673eed1210dfc1\", element=\"10b1c616-0cb0-44ee-b92c-2fda82d827e0\")>, <selenium.webdriver.remote.webelement.WebElement (session=\"7400670b4fdf577299673eed1210dfc1\", element=\"af0935f5-ca4c-42f5-9aad-195554b78544\")>, <selenium.webdriver.remote.webelement.WebElement (session=\"7400670b4fdf577299673eed1210dfc1\", element=\"0cef9367-b4d2-436a-bb85-85c6bd05ea06\")>, <selenium.webdriver.remote.webelement.WebElement (session=\"7400670b4fdf577299673eed1210dfc1\", element=\"a9d25c6c-0e48-4838-b802-50e29750cea2\")>, <selenium.webdriver.remote.webelement.WebElement (session=\"7400670b4fdf577299673eed1210dfc1\", element=\"656580f5-385d-46d5-90a0-e6a30875489d\")>, <selenium.webdriver.remote.webelement.WebElement (session=\"7400670b4fdf577299673eed1210dfc1\", element=\"7a93a97a-f64c-491e-b39a-5f579c41afc0\")>, <selenium.webdriver.remote.webelement.WebElement (session=\"7400670b4fdf577299673eed1210dfc1\", element=\"adc65d6c-ea85-4d03-acad-a43810a639d3\")>, <selenium.webdriver.remote.webelement.WebElement (session=\"7400670b4fdf577299673eed1210dfc1\", element=\"8148a654-b688-4ebc-9452-b71a4715d5c9\")>, <selenium.webdriver.remote.webelement.WebElement (session=\"7400670b4fdf577299673eed1210dfc1\", element=\"32cafda2-7a69-42df-b9b4-5057ea8dbbf9\")>, <selenium.webdriver.remote.webelement.WebElement (session=\"7400670b4fdf577299673eed1210dfc1\", element=\"ed1d12ed-54bb-436b-a3bf-581a68097ed0\")>, <selenium.webdriver.remote.webelement.WebElement (session=\"7400670b4fdf577299673eed1210dfc1\", element=\"0ac4c08d-c447-4659-b6e1-556049f9e76e\")>, <selenium.webdriver.remote.webelement.WebElement (session=\"7400670b4fdf577299673eed1210dfc1\", element=\"e76f2769-8d45-4b25-8268-84c54fdf8d57\")>, <selenium.webdriver.remote.webelement.WebElement (session=\"7400670b4fdf577299673eed1210dfc1\", element=\"5e12aaaa-ed24-4cc3-925a-ec27b6ea1625\")>, <selenium.webdriver.remote.webelement.WebElement (session=\"7400670b4fdf577299673eed1210dfc1\", element=\"fad5e0f9-cff6-4c09-90cb-e2bd42021561\")>, <selenium.webdriver.remote.webelement.WebElement (session=\"7400670b4fdf577299673eed1210dfc1\", element=\"36e5dce6-8423-4fc5-8651-e18d6dd58067\")>, <selenium.webdriver.remote.webelement.WebElement (session=\"7400670b4fdf577299673eed1210dfc1\", element=\"1fb6df6d-5020-4076-a661-1e08ccab0512\")>, <selenium.webdriver.remote.webelement.WebElement (session=\"7400670b4fdf577299673eed1210dfc1\", element=\"7c5cc831-ee70-405a-8cc0-c0b5f1adf04d\")>, <selenium.webdriver.remote.webelement.WebElement (session=\"7400670b4fdf577299673eed1210dfc1\", element=\"b61b9e84-02a4-476b-a4b1-8dbe1f505243\")>, <selenium.webdriver.remote.webelement.WebElement (session=\"7400670b4fdf577299673eed1210dfc1\", element=\"3db8787a-5691-4157-9a10-d28ff5868e21\")>]\n"
     ]
    }
   ],
   "source": [
    "images = driver.find_elements_by_xpath(\"//img[@class= 's-image']\")\n",
    "print(images)"
   ]
  },
  {
   "cell_type": "code",
   "execution_count": 50,
   "metadata": {},
   "outputs": [
    {
     "name": "stdout",
     "output_type": "stream",
     "text": [
      "https://m.media-amazon.com/images/I/51nHeQPbMTL._AC_UL320_.jpg\n",
      "https://m.media-amazon.com/images/I/61dvJ1LTk0L._AC_UL320_.jpg\n",
      "https://m.media-amazon.com/images/I/91vvgAAWWbL._AC_UL320_.jpg\n",
      "https://m.media-amazon.com/images/I/81XNwSy00ZL._AC_UL320_.jpg\n",
      "https://m.media-amazon.com/images/I/410FdyEd4ZL._AC_UL320_.jpg\n",
      "https://m.media-amazon.com/images/I/61YQd1wdQBL._AC_UL320_.jpg\n",
      "https://m.media-amazon.com/images/I/91uTnUrtdPL._AC_UL320_.jpg\n",
      "https://m.media-amazon.com/images/I/410FdyEd4ZL._AC_UL320_.jpg\n",
      "https://m.media-amazon.com/images/I/91XAONFHBvL._AC_UL320_.jpg\n",
      "https://m.media-amazon.com/images/I/81ep28K+XYL._AC_UL320_.jpg\n",
      "https://m.media-amazon.com/images/I/81H0ki1TX2L._AC_UL320_.jpg\n",
      "https://m.media-amazon.com/images/I/410FdyEd4ZL._AC_UL320_.jpg\n",
      "https://m.media-amazon.com/images/I/71-x0qqr2-L._AC_UL320_.jpg\n",
      "https://m.media-amazon.com/images/I/61OBV8cJAYL._AC_UL320_.jpg\n",
      "https://m.media-amazon.com/images/I/61-TuCrKZ7L._AC_UL320_.jpg\n",
      "https://m.media-amazon.com/images/I/61IswE1G44L._AC_UL320_.jpg\n",
      "https://m.media-amazon.com/images/I/71pptbGD1sL._AC_UL320_.jpg\n",
      "https://m.media-amazon.com/images/I/61gmjNpvLsL._AC_UL320_.jpg\n",
      "https://m.media-amazon.com/images/I/81q1-5edHwL._AC_UL320_.jpg\n",
      "https://m.media-amazon.com/images/I/51H7N13gtnL._AC_UL320_.jpg\n",
      "https://m.media-amazon.com/images/I/414CQUfid0L._AC_UL320_.jpg\n",
      "https://m.media-amazon.com/images/I/61bk0cVJfWL._AC_UL320_.jpg\n",
      "https://m.media-amazon.com/images/I/31+y2IlJTRL._AC_UL320_.jpg\n",
      "https://m.media-amazon.com/images/I/61126CST17L._AC_UL320_.jpg\n",
      "https://m.media-amazon.com/images/I/6131GX+aQ0L._AC_UL320_.jpg\n",
      "https://m.media-amazon.com/images/I/81MMoxcwsjL._AC_UL320_.jpg\n",
      "https://m.media-amazon.com/images/I/712yNuhECyL._AC_UL320_.jpg\n",
      "https://m.media-amazon.com/images/I/71J+SEVWs0L._AC_UL320_.jpg\n",
      "https://m.media-amazon.com/images/I/61Q9IDA10PL._AC_UL320_.jpg\n",
      "https://m.media-amazon.com/images/I/71Bo9OtlEtL._AC_UL320_.jpg\n",
      "https://m.media-amazon.com/images/I/815HokhWpWL._AC_UL320_.jpg\n",
      "https://m.media-amazon.com/images/I/91Zw0kBuhAL._AC_UL320_.jpg\n",
      "https://m.media-amazon.com/images/I/91RkfQknxBL._AC_UL320_.jpg\n",
      "https://m.media-amazon.com/images/I/61yvR+SIfFL._AC_UL320_.jpg\n",
      "https://m.media-amazon.com/images/I/61ZsLhDRFvL._AC_UL320_.jpg\n",
      "https://m.media-amazon.com/images/I/81FRpt+GuYL._AC_UL320_.jpg\n",
      "https://m.media-amazon.com/images/I/91VSyhfWmeL._AC_UL320_.jpg\n",
      "https://m.media-amazon.com/images/I/91QQEajnE9L._AC_UL320_.jpg\n",
      "https://m.media-amazon.com/images/I/61EnfGa5b-L._AC_UL320_.jpg\n",
      "https://m.media-amazon.com/images/I/61MOj5oxLgL._AC_UL320_.jpg\n",
      "https://m.media-amazon.com/images/I/71ofgi8a4qL._AC_UL320_.jpg\n",
      "https://m.media-amazon.com/images/I/919eZkyrhqL._AC_UL320_.jpg\n",
      "https://m.media-amazon.com/images/I/71jOWSxNK5L._AC_UL320_.jpg\n",
      "https://m.media-amazon.com/images/I/617FXqgFZEL._AC_UL320_.jpg\n",
      "https://m.media-amazon.com/images/I/61TWOMB7d7L._AC_UL320_.jpg\n",
      "https://m.media-amazon.com/images/I/41Z+YBDmcrL._AC_UL320_.jpg\n",
      "https://m.media-amazon.com/images/I/61bRiZqT0eL._AC_UL320_.jpg\n",
      "https://m.media-amazon.com/images/I/61fYe9Ju3rL._AC_UL320_.jpg\n",
      "https://m.media-amazon.com/images/I/81QgzHjwemL._AC_UL320_.jpg\n",
      "https://m.media-amazon.com/images/I/718rD4AqFJL._AC_UL320_.jpg\n",
      "https://m.media-amazon.com/images/I/A1jK77fVp3L._AC_UL320_.jpg\n",
      "https://m.media-amazon.com/images/I/71mC2NkbERL._AC_UL320_.jpg\n",
      "https://m.media-amazon.com/images/I/61Fe5-uthKL._AC_UL320_.jpg\n",
      "https://m.media-amazon.com/images/I/817lc171-nL._AC_UL320_.jpg\n",
      "https://m.media-amazon.com/images/I/71tHEf94tqL._AC_UL320_.jpg\n",
      "https://m.media-amazon.com/images/I/8115Wtgu+oL._AC_UL320_.jpg\n",
      "https://m.media-amazon.com/images/I/81ig9J80sML._AC_UL320_.jpg\n",
      "https://m.media-amazon.com/images/I/91EfBON4wnL._AC_UL320_.jpg\n",
      "https://m.media-amazon.com/images/I/617b1ZFxVIL._AC_UL320_.jpg\n",
      "https://m.media-amazon.com/images/I/818Jhkw-CIL._AC_UL320_.jpg\n",
      "https://m.media-amazon.com/images/I/61JxL44oAbL._AC_UL320_.jpg\n",
      "https://m.media-amazon.com/images/I/81G6UEsm9tL._AC_UL320_.jpg\n",
      "https://m.media-amazon.com/images/I/71jsM+X565L._AC_UL320_.jpg\n",
      "https://m.media-amazon.com/images/I/61xV6WCBfRL._AC_UL320_.jpg\n",
      "https://m.media-amazon.com/images/I/716n7svHyJL._AC_UL320_.jpg\n"
     ]
    }
   ],
   "source": [
    "urls=[]\n",
    "for image in images:\n",
    "    source = image.get_attribute('src')\n",
    "    urls.append(source)\n",
    "    print(source)"
   ]
  },
  {
   "cell_type": "code",
   "execution_count": 51,
   "metadata": {},
   "outputs": [
    {
     "data": {
      "text/plain": [
       "65"
      ]
     },
     "execution_count": 51,
     "metadata": {},
     "output_type": "execute_result"
    }
   ],
   "source": [
    "len(urls)"
   ]
  },
  {
   "cell_type": "code",
   "execution_count": 53,
   "metadata": {},
   "outputs": [
    {
     "name": "stdout",
     "output_type": "stream",
     "text": [
      "Downloading 1 of 65 images\n",
      "Downloading 2 of 65 images\n",
      "Downloading 3 of 65 images\n",
      "Downloading 4 of 65 images\n",
      "Downloading 5 of 65 images\n",
      "Downloading 6 of 65 images\n",
      "Downloading 7 of 65 images\n",
      "Downloading 8 of 65 images\n",
      "Downloading 9 of 65 images\n",
      "Downloading 10 of 65 images\n",
      "Downloading 11 of 65 images\n",
      "Downloading 12 of 65 images\n",
      "Downloading 13 of 65 images\n",
      "Downloading 14 of 65 images\n",
      "Downloading 15 of 65 images\n",
      "Downloading 16 of 65 images\n",
      "Downloading 17 of 65 images\n",
      "Downloading 18 of 65 images\n",
      "Downloading 19 of 65 images\n",
      "Downloading 20 of 65 images\n",
      "Downloading 21 of 65 images\n",
      "Downloading 22 of 65 images\n",
      "Downloading 23 of 65 images\n",
      "Downloading 24 of 65 images\n",
      "Downloading 25 of 65 images\n",
      "Downloading 26 of 65 images\n",
      "Downloading 27 of 65 images\n",
      "Downloading 28 of 65 images\n",
      "Downloading 29 of 65 images\n",
      "Downloading 30 of 65 images\n",
      "Downloading 31 of 65 images\n",
      "Downloading 32 of 65 images\n",
      "Downloading 33 of 65 images\n",
      "Downloading 34 of 65 images\n",
      "Downloading 35 of 65 images\n",
      "Downloading 36 of 65 images\n",
      "Downloading 37 of 65 images\n",
      "Downloading 38 of 65 images\n",
      "Downloading 39 of 65 images\n",
      "Downloading 40 of 65 images\n",
      "Downloading 41 of 65 images\n",
      "Downloading 42 of 65 images\n",
      "Downloading 43 of 65 images\n",
      "Downloading 44 of 65 images\n",
      "Downloading 45 of 65 images\n",
      "Downloading 46 of 65 images\n",
      "Downloading 47 of 65 images\n",
      "Downloading 48 of 65 images\n",
      "Downloading 49 of 65 images\n",
      "Downloading 50 of 65 images\n",
      "Downloading 51 of 65 images\n",
      "Downloading 52 of 65 images\n",
      "Downloading 53 of 65 images\n",
      "Downloading 54 of 65 images\n",
      "Downloading 55 of 65 images\n",
      "Downloading 56 of 65 images\n",
      "Downloading 57 of 65 images\n",
      "Downloading 58 of 65 images\n",
      "Downloading 59 of 65 images\n",
      "Downloading 60 of 65 images\n",
      "Downloading 61 of 65 images\n",
      "Downloading 62 of 65 images\n",
      "Downloading 63 of 65 images\n",
      "Downloading 64 of 65 images\n",
      "Downloading 65 of 65 images\n"
     ]
    }
   ],
   "source": [
    "import shutil\n",
    "import requests\n",
    "\n",
    "for index, link in enumerate(urls):\n",
    "    print(\"Downloading {0} of {1} images\".format(index+1, len(urls)))\n",
    "    response= requests.get(link)\n",
    "    with open('amazon_shirts/img_{0}.jpeg'.format(index), \"wb\") as file:\n",
    "        file.write(response.content)"
   ]
  },
  {
   "cell_type": "markdown",
   "metadata": {},
   "source": [
    "# Downloading 2nd page of Shirts"
   ]
  },
  {
   "cell_type": "code",
   "execution_count": 54,
   "metadata": {},
   "outputs": [],
   "source": [
    "my_page=driver.get(\"https://www.amazon.in/s?k=shirts&page=2&qid=1593960039&ref=sr_pg_2\")"
   ]
  },
  {
   "cell_type": "code",
   "execution_count": 55,
   "metadata": {},
   "outputs": [],
   "source": [
    "def make_directory(dirname):\n",
    "    current_path=os.getcwd()\n",
    "    path=os.path.join(current_path, dirname)\n",
    "    if not os.path.exists(path):\n",
    "        os.makedirs(path)"
   ]
  },
  {
   "cell_type": "code",
   "execution_count": 56,
   "metadata": {},
   "outputs": [],
   "source": [
    "make_directory(\"amazon_shirts1\")"
   ]
  },
  {
   "cell_type": "code",
   "execution_count": 57,
   "metadata": {},
   "outputs": [
    {
     "name": "stdout",
     "output_type": "stream",
     "text": [
      "[<selenium.webdriver.remote.webelement.WebElement (session=\"7400670b4fdf577299673eed1210dfc1\", element=\"c59a80f0-5587-4389-a355-823c92531408\")>, <selenium.webdriver.remote.webelement.WebElement (session=\"7400670b4fdf577299673eed1210dfc1\", element=\"17453dc5-594c-4bc4-bf27-7f61929cd61a\")>, <selenium.webdriver.remote.webelement.WebElement (session=\"7400670b4fdf577299673eed1210dfc1\", element=\"a63a8c54-a191-402d-8d03-24339f151bed\")>, <selenium.webdriver.remote.webelement.WebElement (session=\"7400670b4fdf577299673eed1210dfc1\", element=\"866a998b-d366-4ffc-866b-c4f01339a1f9\")>, <selenium.webdriver.remote.webelement.WebElement (session=\"7400670b4fdf577299673eed1210dfc1\", element=\"c39c9496-2084-4b9a-8ef6-0ff8a43dd175\")>, <selenium.webdriver.remote.webelement.WebElement (session=\"7400670b4fdf577299673eed1210dfc1\", element=\"1d62f878-19c5-4b23-993d-56b3354d1da6\")>, <selenium.webdriver.remote.webelement.WebElement (session=\"7400670b4fdf577299673eed1210dfc1\", element=\"941ddd8e-5d7f-4d78-b0a4-2e768830a51a\")>, <selenium.webdriver.remote.webelement.WebElement (session=\"7400670b4fdf577299673eed1210dfc1\", element=\"c03a2409-3fa3-49fc-b695-4ddb31ae2bf3\")>, <selenium.webdriver.remote.webelement.WebElement (session=\"7400670b4fdf577299673eed1210dfc1\", element=\"d20ef33a-492c-4d45-a1f4-51e7f5f7f3a1\")>, <selenium.webdriver.remote.webelement.WebElement (session=\"7400670b4fdf577299673eed1210dfc1\", element=\"576cc90a-8e77-4649-86f7-5984ee197361\")>, <selenium.webdriver.remote.webelement.WebElement (session=\"7400670b4fdf577299673eed1210dfc1\", element=\"87a8e205-dc4a-4cf7-8144-ad5ed323d586\")>, <selenium.webdriver.remote.webelement.WebElement (session=\"7400670b4fdf577299673eed1210dfc1\", element=\"60a4a048-3b2e-40c2-8144-4ae33070ba71\")>, <selenium.webdriver.remote.webelement.WebElement (session=\"7400670b4fdf577299673eed1210dfc1\", element=\"ddb7b05c-c26d-4081-9886-e386172ff36a\")>, <selenium.webdriver.remote.webelement.WebElement (session=\"7400670b4fdf577299673eed1210dfc1\", element=\"c81101b6-dd46-4cf3-ad9b-4db0274cc346\")>, <selenium.webdriver.remote.webelement.WebElement (session=\"7400670b4fdf577299673eed1210dfc1\", element=\"4629c140-bfc4-4f53-ba40-6c8a55ac7560\")>, <selenium.webdriver.remote.webelement.WebElement (session=\"7400670b4fdf577299673eed1210dfc1\", element=\"e6caf886-d356-40ce-ac73-2f5598f1b39a\")>, <selenium.webdriver.remote.webelement.WebElement (session=\"7400670b4fdf577299673eed1210dfc1\", element=\"bc82c0bc-16ee-48d4-bfca-855ad0809acf\")>, <selenium.webdriver.remote.webelement.WebElement (session=\"7400670b4fdf577299673eed1210dfc1\", element=\"9a99bf14-6e21-4321-8b7a-aca7e23b3fc6\")>, <selenium.webdriver.remote.webelement.WebElement (session=\"7400670b4fdf577299673eed1210dfc1\", element=\"9f34890c-360d-4e87-bdeb-a15dd78c8321\")>, <selenium.webdriver.remote.webelement.WebElement (session=\"7400670b4fdf577299673eed1210dfc1\", element=\"fe273ec0-0e95-420f-a902-faf1a4ad58a8\")>, <selenium.webdriver.remote.webelement.WebElement (session=\"7400670b4fdf577299673eed1210dfc1\", element=\"d3423ad8-1da9-4297-b046-f90372ab21c4\")>, <selenium.webdriver.remote.webelement.WebElement (session=\"7400670b4fdf577299673eed1210dfc1\", element=\"30663513-30b8-46c0-a2a8-c90dce68b641\")>, <selenium.webdriver.remote.webelement.WebElement (session=\"7400670b4fdf577299673eed1210dfc1\", element=\"64d8e422-b522-48a8-a24c-9ba72fcbc105\")>, <selenium.webdriver.remote.webelement.WebElement (session=\"7400670b4fdf577299673eed1210dfc1\", element=\"20ef4dfa-c398-41c4-920b-50d26136d95d\")>, <selenium.webdriver.remote.webelement.WebElement (session=\"7400670b4fdf577299673eed1210dfc1\", element=\"c429eb69-4e8e-4a67-8f33-5eaa6c0da728\")>, <selenium.webdriver.remote.webelement.WebElement (session=\"7400670b4fdf577299673eed1210dfc1\", element=\"ad9e2866-38b4-493a-9ed0-8af04614fb29\")>, <selenium.webdriver.remote.webelement.WebElement (session=\"7400670b4fdf577299673eed1210dfc1\", element=\"474d0149-ee8f-4550-a85e-1866c52bc564\")>, <selenium.webdriver.remote.webelement.WebElement (session=\"7400670b4fdf577299673eed1210dfc1\", element=\"b33db0e1-2d98-4397-a816-bc1cd351092a\")>, <selenium.webdriver.remote.webelement.WebElement (session=\"7400670b4fdf577299673eed1210dfc1\", element=\"8b2f07d3-d947-4025-b1ad-08e54e2fef9e\")>, <selenium.webdriver.remote.webelement.WebElement (session=\"7400670b4fdf577299673eed1210dfc1\", element=\"438c2cb8-389d-4267-9a1e-c36d359c1872\")>, <selenium.webdriver.remote.webelement.WebElement (session=\"7400670b4fdf577299673eed1210dfc1\", element=\"02942f60-775c-4e39-a3ae-0823f60f9a63\")>, <selenium.webdriver.remote.webelement.WebElement (session=\"7400670b4fdf577299673eed1210dfc1\", element=\"c749919f-2d61-4c3a-9d96-f5eaa13e2513\")>, <selenium.webdriver.remote.webelement.WebElement (session=\"7400670b4fdf577299673eed1210dfc1\", element=\"9fe62848-1826-4bac-a244-fa574a43e6b3\")>, <selenium.webdriver.remote.webelement.WebElement (session=\"7400670b4fdf577299673eed1210dfc1\", element=\"5a7baf7b-64be-4aa4-82e3-1ea8799ebfc0\")>, <selenium.webdriver.remote.webelement.WebElement (session=\"7400670b4fdf577299673eed1210dfc1\", element=\"2592a6a7-a524-4967-b564-c0d8ac3708bd\")>, <selenium.webdriver.remote.webelement.WebElement (session=\"7400670b4fdf577299673eed1210dfc1\", element=\"ced1bfdc-d5f5-4702-a0ee-8a9597be7dd7\")>, <selenium.webdriver.remote.webelement.WebElement (session=\"7400670b4fdf577299673eed1210dfc1\", element=\"58d6bc12-bb07-44fd-a147-13217cff78d9\")>, <selenium.webdriver.remote.webelement.WebElement (session=\"7400670b4fdf577299673eed1210dfc1\", element=\"2119a687-35f3-4edc-bafe-95085d3d4a1a\")>, <selenium.webdriver.remote.webelement.WebElement (session=\"7400670b4fdf577299673eed1210dfc1\", element=\"5c17842f-4e6f-42b6-b5a9-c8e19f98916d\")>, <selenium.webdriver.remote.webelement.WebElement (session=\"7400670b4fdf577299673eed1210dfc1\", element=\"e573f8ca-b119-41fb-bf97-05a0b7eb968c\")>, <selenium.webdriver.remote.webelement.WebElement (session=\"7400670b4fdf577299673eed1210dfc1\", element=\"4aa136c6-9a89-4536-831e-91fb200f2d48\")>, <selenium.webdriver.remote.webelement.WebElement (session=\"7400670b4fdf577299673eed1210dfc1\", element=\"e62e6fb0-7c97-4565-9adf-b70f4673391c\")>, <selenium.webdriver.remote.webelement.WebElement (session=\"7400670b4fdf577299673eed1210dfc1\", element=\"71b5bb0e-3a13-423f-b65b-f7b95190ddeb\")>, <selenium.webdriver.remote.webelement.WebElement (session=\"7400670b4fdf577299673eed1210dfc1\", element=\"4d685aaa-bd40-4f76-aef4-69519dd348e1\")>, <selenium.webdriver.remote.webelement.WebElement (session=\"7400670b4fdf577299673eed1210dfc1\", element=\"eaeabfb0-004e-4823-9be5-0f659f51b421\")>, <selenium.webdriver.remote.webelement.WebElement (session=\"7400670b4fdf577299673eed1210dfc1\", element=\"cc4eb5eb-f8c1-4d64-bcc8-c37f1eae415d\")>, <selenium.webdriver.remote.webelement.WebElement (session=\"7400670b4fdf577299673eed1210dfc1\", element=\"c71ab038-08b4-4e78-9177-f992676c36e1\")>, <selenium.webdriver.remote.webelement.WebElement (session=\"7400670b4fdf577299673eed1210dfc1\", element=\"2dd3e342-6cd4-4ec9-9a6b-09cbd6315b56\")>, <selenium.webdriver.remote.webelement.WebElement (session=\"7400670b4fdf577299673eed1210dfc1\", element=\"f818a9fb-ded4-4691-987a-109d80eac444\")>, <selenium.webdriver.remote.webelement.WebElement (session=\"7400670b4fdf577299673eed1210dfc1\", element=\"ebdd587b-941c-46fc-81f1-d88bc5534322\")>, <selenium.webdriver.remote.webelement.WebElement (session=\"7400670b4fdf577299673eed1210dfc1\", element=\"79c049b2-efcd-45df-a6b8-23a8cd3fe2b6\")>, <selenium.webdriver.remote.webelement.WebElement (session=\"7400670b4fdf577299673eed1210dfc1\", element=\"43a503bd-4c7d-4a3c-9147-26d57b5cf55a\")>, <selenium.webdriver.remote.webelement.WebElement (session=\"7400670b4fdf577299673eed1210dfc1\", element=\"ca3f3716-4650-49d7-8861-761698c33a22\")>, <selenium.webdriver.remote.webelement.WebElement (session=\"7400670b4fdf577299673eed1210dfc1\", element=\"d5d428a5-1007-4085-974d-a58bd22f8f72\")>, <selenium.webdriver.remote.webelement.WebElement (session=\"7400670b4fdf577299673eed1210dfc1\", element=\"e15830ac-70dd-45d1-9d27-98903842fea7\")>, <selenium.webdriver.remote.webelement.WebElement (session=\"7400670b4fdf577299673eed1210dfc1\", element=\"06b709dc-1de2-4297-890f-31e0713aebf5\")>, <selenium.webdriver.remote.webelement.WebElement (session=\"7400670b4fdf577299673eed1210dfc1\", element=\"8057c644-6922-499e-92eb-a2682fe26742\")>, <selenium.webdriver.remote.webelement.WebElement (session=\"7400670b4fdf577299673eed1210dfc1\", element=\"7ca7412d-7bb0-4f2d-a011-35b9c45b4170\")>, <selenium.webdriver.remote.webelement.WebElement (session=\"7400670b4fdf577299673eed1210dfc1\", element=\"157f1851-ebf6-4334-ad9f-ea3ee52b32ce\")>, <selenium.webdriver.remote.webelement.WebElement (session=\"7400670b4fdf577299673eed1210dfc1\", element=\"2a98d7d2-fd3c-4cf3-9b4f-58974d4f5b5b\")>]\n"
     ]
    }
   ],
   "source": [
    "images = driver.find_elements_by_xpath(\"//img[@class= 's-image']\")\n",
    "print(images)"
   ]
  },
  {
   "cell_type": "code",
   "execution_count": 58,
   "metadata": {},
   "outputs": [
    {
     "name": "stdout",
     "output_type": "stream",
     "text": [
      "https://m.media-amazon.com/images/I/51yGd0fnCrL._AC_UL320_.jpg\n",
      "https://m.media-amazon.com/images/I/91n5vSSto6L._AC_UL320_.jpg\n",
      "https://m.media-amazon.com/images/I/619RZ5L9fOL._AC_UL320_.jpg\n",
      "https://m.media-amazon.com/images/I/81neqpN+AXL._AC_UL320_.jpg\n",
      "https://m.media-amazon.com/images/I/81o5lVh-blL._AC_UL320_.jpg\n",
      "https://m.media-amazon.com/images/I/81BQmvg0VDL._AC_UL320_.jpg\n",
      "https://m.media-amazon.com/images/I/918eBxN6ycL._AC_UL320_.jpg\n",
      "https://m.media-amazon.com/images/I/81p0LMpBrML._AC_UL320_.jpg\n",
      "https://m.media-amazon.com/images/I/81134U-Km4L._AC_UL320_.jpg\n",
      "https://m.media-amazon.com/images/I/91CjydPqW4L._AC_UL320_.jpg\n",
      "https://m.media-amazon.com/images/I/81OXbTSd-GL._AC_UL320_.jpg\n",
      "https://m.media-amazon.com/images/I/81yDsGjGBTL._AC_UL320_.jpg\n",
      "https://m.media-amazon.com/images/I/41s0D5z5zDL._AC_UL320_.jpg\n",
      "https://m.media-amazon.com/images/I/712EbVDThRL._AC_UL320_.jpg\n",
      "https://m.media-amazon.com/images/I/71jN-6S78DL._AC_UL320_.jpg\n",
      "https://m.media-amazon.com/images/I/71FFzi0i65L._AC_UL320_.jpg\n",
      "https://m.media-amazon.com/images/I/71ZYLB46k3L._AC_UL320_.jpg\n",
      "https://m.media-amazon.com/images/I/81kj9+5g40L._AC_UL320_.jpg\n",
      "https://m.media-amazon.com/images/I/91nsPTuTwXL._AC_UL320_.jpg\n",
      "https://m.media-amazon.com/images/I/71Mp1iUF1lL._AC_UL320_.jpg\n",
      "https://m.media-amazon.com/images/I/81WS2dduPKL._AC_UL320_.jpg\n",
      "https://m.media-amazon.com/images/I/71Roik4mdAL._AC_UL320_.jpg\n",
      "https://m.media-amazon.com/images/I/81J610UGUxL._AC_UL320_.jpg\n",
      "https://m.media-amazon.com/images/I/81o5DHQqcNL._AC_UL320_.jpg\n",
      "https://m.media-amazon.com/images/I/81KWs5rGeaL._AC_UL320_.jpg\n",
      "https://m.media-amazon.com/images/I/610kWn8gC+L._AC_UL320_.jpg\n",
      "https://m.media-amazon.com/images/I/71Pof91deKL._AC_UL320_.jpg\n",
      "https://m.media-amazon.com/images/I/91lfSBmLH5L._AC_UL320_.jpg\n",
      "https://m.media-amazon.com/images/I/61iiLrIpgDL._AC_UL320_.jpg\n",
      "https://m.media-amazon.com/images/I/611qbdNLCnL._AC_UL320_.jpg\n",
      "https://m.media-amazon.com/images/I/71x31ihfyKL._AC_UL320_.jpg\n",
      "https://m.media-amazon.com/images/I/91nAWzk2eeL._AC_UL320_.jpg\n",
      "https://m.media-amazon.com/images/I/81TqJ7o4DgL._AC_UL320_.jpg\n",
      "https://m.media-amazon.com/images/I/91hpLQvuCpL._AC_UL320_.jpg\n",
      "https://m.media-amazon.com/images/I/81OJRal2a3L._AC_UL320_.jpg\n",
      "https://m.media-amazon.com/images/I/71-0gpmRw4L._AC_UL320_.jpg\n",
      "https://m.media-amazon.com/images/I/51rUl-oBYNL._AC_UL320_.jpg\n",
      "https://m.media-amazon.com/images/I/71hGOff8tuL._AC_UL320_.jpg\n",
      "https://m.media-amazon.com/images/I/81KzXkp3K8L._AC_UL320_.jpg\n",
      "https://m.media-amazon.com/images/I/81oQgfMAG8L._AC_UL320_.jpg\n",
      "https://m.media-amazon.com/images/I/71oAzdtAwdL._AC_UL320_.jpg\n",
      "https://m.media-amazon.com/images/I/71QPaWMKkeL._AC_UL320_.jpg\n",
      "https://m.media-amazon.com/images/I/818YR0Aq6VL._AC_UL320_.jpg\n",
      "https://m.media-amazon.com/images/I/81+ycPCBAoL._AC_UL320_.jpg\n",
      "https://m.media-amazon.com/images/I/81H0ki1TX2L._AC_UL320_.jpg\n",
      "https://m.media-amazon.com/images/I/71RtBHUfMOL._AC_UL320_.jpg\n",
      "https://m.media-amazon.com/images/I/71OWfQ5mD2L._AC_UL320_.jpg\n",
      "https://m.media-amazon.com/images/I/71QX+raFfzL._AC_UL320_.jpg\n",
      "https://m.media-amazon.com/images/I/71yqwlFjVRL._AC_UL320_.jpg\n",
      "https://m.media-amazon.com/images/I/71nPGVAEYtL._AC_UL320_.jpg\n",
      "https://m.media-amazon.com/images/I/71EAXdIa+VL._AC_UL320_.jpg\n",
      "https://m.media-amazon.com/images/I/91PFoIlxGOL._AC_UL320_.jpg\n",
      "https://m.media-amazon.com/images/I/71b2VxQWI3L._AC_UL320_.jpg\n",
      "https://m.media-amazon.com/images/I/81lbb92hHaL._AC_UL320_.jpg\n",
      "https://m.media-amazon.com/images/I/51KVdVgzLkL._AC_UL320_.jpg\n",
      "https://m.media-amazon.com/images/I/51EbY+yb2sL._AC_UL320_.jpg\n",
      "https://m.media-amazon.com/images/I/91RW-ibM32L._AC_UL320_.jpg\n",
      "https://m.media-amazon.com/images/I/91FDV+VzKNL._AC_UL320_.jpg\n",
      "https://m.media-amazon.com/images/I/91nhEx66KRL._AC_UL320_.jpg\n",
      "https://m.media-amazon.com/images/I/91jaUj3AohL._AC_UL320_.jpg\n"
     ]
    }
   ],
   "source": [
    "urls=[]\n",
    "for image in images:\n",
    "    source = image.get_attribute('src')\n",
    "    urls.append(source)\n",
    "    print(source)"
   ]
  },
  {
   "cell_type": "code",
   "execution_count": 59,
   "metadata": {},
   "outputs": [
    {
     "data": {
      "text/plain": [
       "60"
      ]
     },
     "execution_count": 59,
     "metadata": {},
     "output_type": "execute_result"
    }
   ],
   "source": [
    "len(urls)"
   ]
  },
  {
   "cell_type": "code",
   "execution_count": 60,
   "metadata": {},
   "outputs": [
    {
     "name": "stdout",
     "output_type": "stream",
     "text": [
      "Downloading 65 of 60 images\n",
      "Downloading 66 of 60 images\n",
      "Downloading 67 of 60 images\n",
      "Downloading 68 of 60 images\n",
      "Downloading 69 of 60 images\n",
      "Downloading 70 of 60 images\n",
      "Downloading 71 of 60 images\n",
      "Downloading 72 of 60 images\n",
      "Downloading 73 of 60 images\n",
      "Downloading 74 of 60 images\n",
      "Downloading 75 of 60 images\n",
      "Downloading 76 of 60 images\n",
      "Downloading 77 of 60 images\n",
      "Downloading 78 of 60 images\n",
      "Downloading 79 of 60 images\n",
      "Downloading 80 of 60 images\n",
      "Downloading 81 of 60 images\n",
      "Downloading 82 of 60 images\n",
      "Downloading 83 of 60 images\n",
      "Downloading 84 of 60 images\n",
      "Downloading 85 of 60 images\n",
      "Downloading 86 of 60 images\n",
      "Downloading 87 of 60 images\n",
      "Downloading 88 of 60 images\n",
      "Downloading 89 of 60 images\n",
      "Downloading 90 of 60 images\n",
      "Downloading 91 of 60 images\n",
      "Downloading 92 of 60 images\n",
      "Downloading 93 of 60 images\n",
      "Downloading 94 of 60 images\n",
      "Downloading 95 of 60 images\n",
      "Downloading 96 of 60 images\n",
      "Downloading 97 of 60 images\n",
      "Downloading 98 of 60 images\n",
      "Downloading 99 of 60 images\n",
      "Downloading 100 of 60 images\n",
      "Downloading 101 of 60 images\n",
      "Downloading 102 of 60 images\n",
      "Downloading 103 of 60 images\n",
      "Downloading 104 of 60 images\n",
      "Downloading 105 of 60 images\n",
      "Downloading 106 of 60 images\n",
      "Downloading 107 of 60 images\n",
      "Downloading 108 of 60 images\n",
      "Downloading 109 of 60 images\n",
      "Downloading 110 of 60 images\n",
      "Downloading 111 of 60 images\n",
      "Downloading 112 of 60 images\n",
      "Downloading 113 of 60 images\n",
      "Downloading 114 of 60 images\n",
      "Downloading 115 of 60 images\n",
      "Downloading 116 of 60 images\n",
      "Downloading 117 of 60 images\n",
      "Downloading 118 of 60 images\n",
      "Downloading 119 of 60 images\n",
      "Downloading 120 of 60 images\n",
      "Downloading 121 of 60 images\n",
      "Downloading 122 of 60 images\n",
      "Downloading 123 of 60 images\n",
      "Downloading 124 of 60 images\n"
     ]
    }
   ],
   "source": [
    "import shutil\n",
    "import requests\n",
    "\n",
    "for index, link in enumerate(urls):\n",
    "    print(\"Downloading {0} of {1} images\".format(index+65, len(urls)))\n",
    "    response= requests.get(link)\n",
    "    with open('amazon_shirts1/img_{0}.jpeg'.format(index), \"wb\") as file:\n",
    "        file.write(response.content)"
   ]
  },
  {
   "cell_type": "code",
   "execution_count": null,
   "metadata": {},
   "outputs": [],
   "source": []
  }
 ],
 "metadata": {
  "kernelspec": {
   "display_name": "Python 3",
   "language": "python",
   "name": "python3"
  },
  "language_info": {
   "codemirror_mode": {
    "name": "ipython",
    "version": 3
   },
   "file_extension": ".py",
   "mimetype": "text/x-python",
   "name": "python",
   "nbconvert_exporter": "python",
   "pygments_lexer": "ipython3",
   "version": "3.7.6"
  }
 },
 "nbformat": 4,
 "nbformat_minor": 4
}
