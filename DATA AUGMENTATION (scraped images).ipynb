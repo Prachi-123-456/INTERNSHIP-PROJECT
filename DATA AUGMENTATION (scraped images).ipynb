{
 "cells": [
  {
   "cell_type": "code",
   "execution_count": 30,
   "metadata": {},
   "outputs": [
    {
     "name": "stdout",
     "output_type": "stream",
     "text": [
      "Found 2493 images belonging to 3 classes.\n",
      "Found 84 images belonging to 3 classes.\n"
     ]
    }
   ],
   "source": [
    "from keras.preprocessing.image import ImageDataGenerator\n",
    "\n",
    "# create a new generator\n",
    "imagegen = ImageDataGenerator()\n",
    "# load train data\n",
    "train = imagegen.flow_from_directory(\"C:/Users/Dell/scraping_image_data/training_images\", class_mode=\"categorical\", shuffle=False, batch_size=128, target_size=(224, 224))\n",
    "# load val data\n",
    "val = imagegen.flow_from_directory(\"C:/Users/Dell/scraping_image_data/validation_images\", class_mode=\"categorical\", shuffle=False, batch_size=128, target_size=(224, 224))"
   ]
  },
  {
   "cell_type": "code",
   "execution_count": 32,
   "metadata": {},
   "outputs": [
    {
     "name": "stdout",
     "output_type": "stream",
     "text": [
      "Epoch 1/30\n",
      "20/20 [==============================] - 242s 12s/step - loss: 1.7205 - accuracy: 0.3345 - val_loss: 10.8033 - val_accuracy: 0.3810\n",
      "Epoch 2/30\n",
      "20/20 [==============================] - 220s 11s/step - loss: 1.0669 - accuracy: 0.4813 - val_loss: 7.5997 - val_accuracy: 0.2976\n",
      "Epoch 3/30\n",
      "20/20 [==============================] - 217s 11s/step - loss: 0.7808 - accuracy: 0.6498 - val_loss: 2.6970 - val_accuracy: 0.3929\n",
      "Epoch 4/30\n",
      "20/20 [==============================] - 216s 11s/step - loss: 0.5745 - accuracy: 0.7629 - val_loss: 2.3557 - val_accuracy: 0.3690\n",
      "Epoch 5/30\n",
      "20/20 [==============================] - 216s 11s/step - loss: 0.5463 - accuracy: 0.7750 - val_loss: 5.9934 - val_accuracy: 0.3452\n",
      "Epoch 6/30\n",
      "20/20 [==============================] - 218s 11s/step - loss: 0.4509 - accuracy: 0.8051 - val_loss: 1.3902 - val_accuracy: 0.5595\n",
      "Epoch 7/30\n",
      "20/20 [==============================] - 218s 11s/step - loss: 0.2840 - accuracy: 0.8957 - val_loss: 1.2336 - val_accuracy: 0.6071\n",
      "Epoch 8/30\n",
      "20/20 [==============================] - 219s 11s/step - loss: 0.2112 - accuracy: 0.9178 - val_loss: 3.3448 - val_accuracy: 0.4643\n",
      "Epoch 9/30\n",
      "20/20 [==============================] - 219s 11s/step - loss: 0.1542 - accuracy: 0.9406 - val_loss: 1.7133 - val_accuracy: 0.5238\n",
      "Epoch 10/30\n",
      "20/20 [==============================] - 220s 11s/step - loss: 0.2390 - accuracy: 0.9017 - val_loss: 5.1128 - val_accuracy: 0.4524\n",
      "Epoch 11/30\n",
      "20/20 [==============================] - 219s 11s/step - loss: 0.1757 - accuracy: 0.9471 - val_loss: 3.5250 - val_accuracy: 0.4048\n",
      "Epoch 12/30\n",
      "20/20 [==============================] - 220s 11s/step - loss: 0.1461 - accuracy: 0.9487 - val_loss: 4.5782 - val_accuracy: 0.3333\n",
      "Epoch 13/30\n",
      "20/20 [==============================] - 215s 11s/step - loss: 0.1155 - accuracy: 0.9615 - val_loss: 2.0395 - val_accuracy: 0.4881\n",
      "Epoch 14/30\n",
      "20/20 [==============================] - 218s 11s/step - loss: 0.0497 - accuracy: 0.9888 - val_loss: 1.3989 - val_accuracy: 0.7024\n",
      "Epoch 15/30\n",
      "20/20 [==============================] - 217s 11s/step - loss: 0.0181 - accuracy: 0.9984 - val_loss: 0.9672 - val_accuracy: 0.6905\n",
      "Epoch 16/30\n",
      "20/20 [==============================] - 217s 11s/step - loss: 0.0122 - accuracy: 0.9992 - val_loss: 1.2762 - val_accuracy: 0.7619\n",
      "Epoch 17/30\n",
      "20/20 [==============================] - 219s 11s/step - loss: 0.0091 - accuracy: 0.9984 - val_loss: 0.9790 - val_accuracy: 0.7738\n",
      "Epoch 18/30\n",
      "20/20 [==============================] - 217s 11s/step - loss: 0.0050 - accuracy: 0.9996 - val_loss: 1.0434 - val_accuracy: 0.6667\n",
      "Epoch 19/30\n",
      "20/20 [==============================] - 217s 11s/step - loss: 0.0036 - accuracy: 1.0000 - val_loss: 1.0229 - val_accuracy: 0.6667\n",
      "Epoch 20/30\n",
      "20/20 [==============================] - 217s 11s/step - loss: 0.0024 - accuracy: 1.0000 - val_loss: 1.0689 - val_accuracy: 0.6905\n",
      "Epoch 21/30\n",
      "20/20 [==============================] - 218s 11s/step - loss: 0.0023 - accuracy: 1.0000 - val_loss: 1.1307 - val_accuracy: 0.6667\n",
      "Epoch 22/30\n",
      "20/20 [==============================] - 216s 11s/step - loss: 0.0031 - accuracy: 0.9996 - val_loss: 1.0241 - val_accuracy: 0.6786\n",
      "Epoch 23/30\n",
      "20/20 [==============================] - 219s 11s/step - loss: 0.0105 - accuracy: 0.9984 - val_loss: 1.2131 - val_accuracy: 0.6667\n",
      "Epoch 24/30\n",
      "20/20 [==============================] - 216s 11s/step - loss: 0.0037 - accuracy: 1.0000 - val_loss: 1.0527 - val_accuracy: 0.6786\n",
      "Epoch 25/30\n",
      "20/20 [==============================] - 218s 11s/step - loss: 0.0030 - accuracy: 0.9996 - val_loss: 0.8406 - val_accuracy: 0.7262\n",
      "Epoch 26/30\n",
      "20/20 [==============================] - 218s 11s/step - loss: 0.0017 - accuracy: 1.0000 - val_loss: 0.9840 - val_accuracy: 0.7143\n",
      "Epoch 27/30\n",
      "20/20 [==============================] - 218s 11s/step - loss: 0.0020 - accuracy: 0.9996 - val_loss: 1.0233 - val_accuracy: 0.7024\n",
      "Epoch 28/30\n",
      "20/20 [==============================] - 217s 11s/step - loss: 0.0018 - accuracy: 0.9996 - val_loss: 0.8353 - val_accuracy: 0.7738\n",
      "Epoch 29/30\n",
      "20/20 [==============================] - 219s 11s/step - loss: 0.0010 - accuracy: 1.0000 - val_loss: 0.8209 - val_accuracy: 0.7143\n",
      "Epoch 30/30\n",
      "20/20 [==============================] - 219s 11s/step - loss: 0.0011 - accuracy: 1.0000 - val_loss: 0.8029 - val_accuracy: 0.7619\n"
     ]
    },
    {
     "data": {
      "text/plain": [
       "<keras.callbacks.callbacks.History at 0x22503d23248>"
      ]
     },
     "execution_count": 32,
     "metadata": {},
     "output_type": "execute_result"
    }
   ],
   "source": [
    "from keras.models import Sequential\n",
    "from keras.layers import Conv2D, MaxPool2D, Flatten, Dense, InputLayer, BatchNormalization, Dropout\n",
    "\n",
    "# build a sequential model\n",
    "model = Sequential()\n",
    "model.add(InputLayer(input_shape=(224, 224, 3)))\n",
    "\n",
    "# 1st conv block\n",
    "model.add(Conv2D(25, (5, 5), activation='relu', strides=(1, 1), padding='same'))\n",
    "model.add(MaxPool2D(pool_size=(2, 2), padding='same'))\n",
    "# 2nd conv block\n",
    "model.add(Conv2D(50, (5, 5), activation='relu', strides=(2, 2), padding='same'))\n",
    "model.add(MaxPool2D(pool_size=(2, 2), padding='same'))\n",
    "model.add(BatchNormalization())\n",
    "# 3rd conv block\n",
    "model.add(Conv2D(70, (3, 3), activation='relu', strides=(2, 2), padding='same'))\n",
    "model.add(MaxPool2D(pool_size=(2, 2), padding='valid'))\n",
    "model.add(BatchNormalization())\n",
    "# ANN block\n",
    "model.add(Flatten())\n",
    "model.add(Dense(units=100, activation='relu'))\n",
    "model.add(Dense(units=100, activation='relu'))\n",
    "model.add(Dropout(0.25))\n",
    "# output layer\n",
    "model.add(Dense(units=3, activation='softmax'))\n",
    "\n",
    "# compile model\n",
    "model.compile(loss='categorical_crossentropy', optimizer=\"adam\", metrics=['accuracy'])\n",
    "# fit on data for 30 epochs\n",
    "model.fit_generator(train, epochs=30, validation_data=val)"
   ]
  },
  {
   "cell_type": "code",
   "execution_count": 33,
   "metadata": {},
   "outputs": [
    {
     "name": "stdout",
     "output_type": "stream",
     "text": [
      "Model: \"vgg16\"\n",
      "_________________________________________________________________\n",
      "Layer (type)                 Output Shape              Param #   \n",
      "=================================================================\n",
      "input_3 (InputLayer)         (None, None, None, 3)     0         \n",
      "_________________________________________________________________\n",
      "block1_conv1 (Conv2D)        (None, None, None, 64)    1792      \n",
      "_________________________________________________________________\n",
      "block1_conv2 (Conv2D)        (None, None, None, 64)    36928     \n",
      "_________________________________________________________________\n",
      "block1_pool (MaxPooling2D)   (None, None, None, 64)    0         \n",
      "_________________________________________________________________\n",
      "block2_conv1 (Conv2D)        (None, None, None, 128)   73856     \n",
      "_________________________________________________________________\n",
      "block2_conv2 (Conv2D)        (None, None, None, 128)   147584    \n",
      "_________________________________________________________________\n",
      "block2_pool (MaxPooling2D)   (None, None, None, 128)   0         \n",
      "_________________________________________________________________\n",
      "block3_conv1 (Conv2D)        (None, None, None, 256)   295168    \n",
      "_________________________________________________________________\n",
      "block3_conv2 (Conv2D)        (None, None, None, 256)   590080    \n",
      "_________________________________________________________________\n",
      "block3_conv3 (Conv2D)        (None, None, None, 256)   590080    \n",
      "_________________________________________________________________\n",
      "block3_pool (MaxPooling2D)   (None, None, None, 256)   0         \n",
      "_________________________________________________________________\n",
      "block4_conv1 (Conv2D)        (None, None, None, 512)   1180160   \n",
      "_________________________________________________________________\n",
      "block4_conv2 (Conv2D)        (None, None, None, 512)   2359808   \n",
      "_________________________________________________________________\n",
      "block4_conv3 (Conv2D)        (None, None, None, 512)   2359808   \n",
      "_________________________________________________________________\n",
      "block4_pool (MaxPooling2D)   (None, None, None, 512)   0         \n",
      "_________________________________________________________________\n",
      "block5_conv1 (Conv2D)        (None, None, None, 512)   2359808   \n",
      "_________________________________________________________________\n",
      "block5_conv2 (Conv2D)        (None, None, None, 512)   2359808   \n",
      "_________________________________________________________________\n",
      "block5_conv3 (Conv2D)        (None, None, None, 512)   2359808   \n",
      "_________________________________________________________________\n",
      "block5_pool (MaxPooling2D)   (None, None, None, 512)   0         \n",
      "=================================================================\n",
      "Total params: 14,714,688\n",
      "Trainable params: 14,714,688\n",
      "Non-trainable params: 0\n",
      "_________________________________________________________________\n"
     ]
    }
   ],
   "source": [
    "from keras.applications import VGG16\n",
    "\n",
    "# include top should be False to remove the softmax layer\n",
    "pretrained_model = VGG16(include_top=False, weights='imagenet')\n",
    "pretrained_model.summary()"
   ]
  },
  {
   "cell_type": "code",
   "execution_count": null,
   "metadata": {},
   "outputs": [],
   "source": []
  }
 ],
 "metadata": {
  "kernelspec": {
   "display_name": "Python 3",
   "language": "python",
   "name": "python3"
  },
  "language_info": {
   "codemirror_mode": {
    "name": "ipython",
    "version": 3
   },
   "file_extension": ".py",
   "mimetype": "text/x-python",
   "name": "python",
   "nbconvert_exporter": "python",
   "pygments_lexer": "ipython3",
   "version": "3.7.6"
  }
 },
 "nbformat": 4,
 "nbformat_minor": 4
}
